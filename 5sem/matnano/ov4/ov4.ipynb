{
 "cells": [
  {
   "cell_type": "markdown",
   "metadata": {},
   "source": [
    "# Øving 4\n",
    "\n",
    "## Oppg 1\n",
    "\n",
    "### 1a)\n",
    "\n",
    "**Micelle:**  \n",
    "En samling av molekyler med en hydrofil og en hydrofob ende (surfaktant) dispergert i et hydrofilt løsemiddel. Molekylene danner sfærer der den hydrofile enden peker ut mot løsemiddelet. \n",
    "\n",
    "Dannes når konsentrasjonen av surfaktanter er større enn CMC (den kritiske micellekonsentrasjonen).\n",
    "\n",
    "**Revers micelle:**  \n",
    "En revers micelle er en micelle der løsemiddelet er hydrofobt, da er også den hydrofobe delen av surfaktantene ut på utsiden av micellen.\n",
    "\n",
    "Dannes analogt ved høyere konsentrasjoner av surfaktanter.\n",
    "\n",
    "**Mikroemulsjon:**  \n",
    "En mikroemulsjon er en blanding av olje, vann og surfaktanter i likevekt, enten med miceller i vann med oje på innsiden eller med reverse miceller i olje med vann på innsiden.\n",
    "\n",
    "### 1b)\n",
    "\n",
    "Mengden vann i en micelle er en viktig parameter for bruken av reverse miceller (_rmc_) som reaktor for prosesser på nanoskala. $w=\\frac{[water]}{[surfactant]}$ og er parameteren vi bruker for å kvantifisere mengden vann. Dersom $w \\lt 10$ brukes alt vannet i micellen til å hydrere surfaktantene, og kan ikke brukes til å reagere. Hvis $w \\geq 10$ så er ikke vannet lengre \"opptatt\", så sannsynligheten for at innholdet i _rmc_ byttes ut blir større, og man kan tilsette andre reagenter, slik at man kan reagere.\n",
    "\n",
    "### 1c)\n",
    "\n",
    "**Two different populations of reverse micelles:** Den ene og den andre typen _rmc_ inneholder hver av reaktantene. _Rmc_ kolliderer og kombineres, og vi får en større micelle med en blanding av innholdet til de forskjellige reagentene. Der skjer reaksjonen. Det er viktig at $w \\geq 10$\n",
    "\n",
    "**En populasjon av reverse miceller:** _Rmc_ inneholder en reaktant. Løsemiddelet inneholder en annen. Den andre reaktanten diffunderer inn i _rmc_. Kjemisk reaksjon skjer inni _rmc_. Her er det også viktig at $w \\geq 10$\n",
    "\n",
    "### 1d)\n",
    "\n",
    "Vann - Reaksjonsmedium  \n",
    "Isooktan - Løsemiddel  \n",
    "$PdCl_2$ - Reaktant 1   \n",
    "$NaBH_4$ -  Reaktant 2  \n",
    "$Na(AOT)$ - Surfaktant  \n",
    "\n",
    "$PdCl_2$ løses i vann i en av micellefamiliene.  \n",
    "$NaBH_4$ løses i vann i den andre av micellefamiliene.  \n",
    "Micellene kombineres, og $PdCl_2$ reagerer med $NaBH_4$ og danner nanopartikler.\n",
    "\n",
    "### 1e)\n",
    "\n",
    "For å kontrollere partikkelstørrelsen kan man kontrollere andelen $w = \\frac{[vann]}{[surfaktant]}$, som bestemmer størrelsen på micellene. Man kan også kontrollere mengden utgangsstoffer.\n",
    "\n",
    "## Oppg 2\n",
    "\n",
    "### 2a)\n",
    "\n",
    "Vapour-Solid(VS)-vekst skjer ved at et substrat blir plaser i et vakuumkammer. Supersaturert damp av materialet som skal gros blir satt inn i kammeret. VS-kondensering skjer, og den anisotropiske veksten av materialet gjør at krystalline nanotråder og nanostaver dannes. \n",
    "\n",
    "\n",
    "### 2b)\n",
    "\n",
    "Vapour-Liquid-Solid(VLS)-vekst skjer ved at:\n",
    "\n",
    "1. Katalytiske dråper deponeres på et substrat som settes i et vakuumkammer.\n",
    "2. Det som skal vokse settes inn i kammeret, der det vill diffunderes inn i dråpen.\n",
    "3. Når dråpene blir supersaturerte så faller materialet ut ved overgangen fra fast til flytende, noe som forårsaker vekst i en enkelt retning. Dette danner 1D-nanopartikler.\n",
    "\n",
    "### 2c)\n",
    "\n",
    "Når det er viktig å kontrollere diameteren til nanotrådene er det foretrukket å bruke VLS-vekst. Det er fordi at ved VLS-vekst kan man kontrollere diameteren ved å kontrollere størrelsen til dråpene som katalyserer prosessen.\n",
    "\n",
    "### 2d)\n",
    "\n",
    "Det dannes en flytende fase av gull fordi smeltepunktet minker når partikkelstørrelsen minker, og i VLS-vekst bruker man veldig små mengder gull."
   ]
  }
 ],
 "metadata": {
  "kernelspec": {
   "display_name": "Python 3.10.6 64-bit",
   "language": "python",
   "name": "python3"
  },
  "language_info": {
   "name": "python",
   "version": "3.10.6"
  },
  "orig_nbformat": 4,
  "vscode": {
   "interpreter": {
    "hash": "b31bfab217b7bba0d27806e15e39a0b8f095aad566d769ceebb383dd6773a3d0"
   }
  }
 },
 "nbformat": 4,
 "nbformat_minor": 2
}
