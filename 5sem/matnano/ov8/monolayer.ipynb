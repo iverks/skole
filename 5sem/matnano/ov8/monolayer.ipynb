{
 "cells": [
  {
   "cell_type": "code",
   "execution_count": 3,
   "metadata": {},
   "outputs": [],
   "source": [
    "import numpy as np\n",
    "import matplotlib.pyplot as plt\n",
    "from scipy.stats import linregress"
   ]
  },
  {
   "cell_type": "code",
   "execution_count": 4,
   "metadata": {},
   "outputs": [],
   "source": [
    "pressures = np.array([13.3, 26.7, 40.0, 53.3, 66.7, 80.0, 93.3])\n",
    "volumes = np.array([10.3, 19.3, 27.3, 34.1, 40.0, 45.5, 48.0])\n",
    "p_per_v = pressures/volumes\n",
    "result = linregress(pressures, p_per_v)"
   ]
  },
  {
   "cell_type": "code",
   "execution_count": 6,
   "metadata": {},
   "outputs": [],
   "source": [
    "slope = result.slope\n",
    "vmon = 1/slope"
   ]
  },
  {
   "cell_type": "code",
   "execution_count": 7,
   "metadata": {},
   "outputs": [
    {
     "name": "stdout",
     "output_type": "stream",
     "text": [
      "128.3148811502378\n"
     ]
    }
   ],
   "source": [
    "print(vmon)"
   ]
  }
 ],
 "metadata": {
  "kernelspec": {
   "display_name": "Python 3.10.6 64-bit",
   "language": "python",
   "name": "python3"
  },
  "language_info": {
   "codemirror_mode": {
    "name": "ipython",
    "version": 3
   },
   "file_extension": ".py",
   "mimetype": "text/x-python",
   "name": "python",
   "nbconvert_exporter": "python",
   "pygments_lexer": "ipython3",
   "version": "3.10.6"
  },
  "orig_nbformat": 4,
  "vscode": {
   "interpreter": {
    "hash": "b31bfab217b7bba0d27806e15e39a0b8f095aad566d769ceebb383dd6773a3d0"
   }
  }
 },
 "nbformat": 4,
 "nbformat_minor": 2
}
