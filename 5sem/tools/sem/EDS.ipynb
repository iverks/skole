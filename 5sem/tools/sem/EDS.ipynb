{
 "cells": [
  {
   "cell_type": "markdown",
   "id": "d911a1bd-39db-4acf-8342-d87f9e75d451",
   "metadata": {},
   "source": [
    "# Prosessering av Energy Dispersive X-ray Spectroscopy data\n",
    "\n",
    "Denne Jupyter Notebooken viser hvordan Energy Dispersive X-ray Spectroscopy (EDS) data kan analyseres. Spektroskopi er en veldig viktig datatype \"klasse\", som dukker opp i mange forskjellige teknikker.\n",
    "\n",
    "### Målet med denne notebooken\n",
    "\n",
    "- Dere skal kunne prosessere EDS dataene dere tok opp i SEM-laben\n",
    "- Bli komfortable med å jobbe med spektroskopidata\n",
    "- Lage figur som viser kjemisk komposisjon i dataene deres\n",
    "\n",
    "### Notebook-planen\n",
    "\n",
    "- Åpne datasettet, og utforske det\n",
    "- Finne ut hvilke grunnstoffer som er i prøvematerialet\n",
    "- Lage figur av dette"
   ]
  },
  {
   "cell_type": "markdown",
   "id": "cf9834e4-347d-49e9-9478-2fe68ca26eb0",
   "metadata": {},
   "source": [
    "## Importere biblioteker\n",
    "\n",
    "Først, plotte-biblioteket. Dette kan enten være `%matplotlib qt` for egne vinduer for plottene, eller `%matplotlib widget` for å få plottene i selve Jupyter Notebooken."
   ]
  },
  {
   "cell_type": "code",
   "execution_count": 1,
   "id": "ed41f0bf-d922-4307-ac8f-e71c7e91256f",
   "metadata": {
    "pycharm": {
     "is_executing": true
    }
   },
   "outputs": [],
   "source": [
    "import matplotlib.pyplot as plt \n",
    "import numpy as np\n",
    "import hyperspy.api as hs\n",
    "from pprint import pprint\n",
    "\n",
    "from mpl_toolkits.axes_grid1.anchored_artists import AnchoredSizeBar\n",
    "import matplotlib.font_manager as fm\n",
    "import matplotlib.patheffects as patheffects\n",
    "\n",
    "%matplotlib qt5"
   ]
  },
  {
   "cell_type": "markdown",
   "id": "e1e4655c-c3b8-4992-a3c5-fc3619e0150c",
   "metadata": {},
   "source": [
    "Så importere HyperSpy"
   ]
  },
  {
   "cell_type": "markdown",
   "id": "14b1f326-f075-4647-97ed-402164a4d769",
   "metadata": {},
   "source": [
    "## Åpne dataset\n",
    "\n",
    "Dette gjøres via `hs.load`, som kan åpne en rekke dataformater, spesielt innenfor elektronmikroskopi. EDS datasettene fra SEM laben består av 4 filer: `.emsa`, `.txt`, `.raw` og `.rpl`.\n",
    "\n",
    "Kjør de 2 cellene under for å i) åpne dataene, ii) kalibrere dem.\n",
    "\n",
    "Dette lager et signal `s`."
   ]
  },
  {
   "cell_type": "code",
   "execution_count": 2,
   "id": "4de4cafc-5ff5-46b4-9a8e-e494a040995b",
   "metadata": {},
   "outputs": [],
   "source": [
    "# filename_rpl = \"datasett/eds_window2 1.rpl\"\n",
    "# filename_emsa = \"datasett/eds_window2.emsa\"\n",
    "# filename_txt = \"datasett/eds_window2.txt\"\n",
    "filename_rpl = \"our_data/EDS Data 2.rpl\"\n",
    "filename_emsa = \"our_data/eds_regulaer.emsa\"\n",
    "filename_txt = \"our_data/eds_regulaer.txt\""
   ]
  },
  {
   "cell_type": "markdown",
   "id": "1c375874-8831-4933-8392-978494ca2b7c",
   "metadata": {},
   "source": [
    "(Merk: det kan hende dere får en feilmelding i `np.loadtxt` på grunn av mu, hvis dette skjer så gå inn i tekstfilen og endre den til u.)"
   ]
  },
  {
   "cell_type": "code",
   "execution_count": 3,
   "id": "5e95fd8a-605b-41eb-b904-809a727ec55d",
   "metadata": {},
   "outputs": [
    {
     "name": "stdout",
     "output_type": "stream",
     "text": [
      "<EDSSEMSpectrum, title: , dimensions: (1024, 704|2048)>\n"
     ]
    }
   ],
   "source": [
    "s = hs.load(filename_rpl).T\n",
    "s.set_signal_type('EDS_SEM')\n",
    "s_c = hs.load(filename_emsa, signal_type='EDS_SEM')\n",
    "s.get_calibration_from(s_c)\n",
    "width = float(np.loadtxt(filename_txt, skiprows=4, max_rows=1, dtype=object, usecols=2)[()][:-2])\n",
    "scale = width / s.axes_manager.navigation_shape[0]\n",
    "s.axes_manager.navigation_axes[0].scale = scale\n",
    "s.axes_manager.navigation_axes[1].scale = scale\n",
    "s.axes_manager.navigation_axes[0].units = \"um\"\n",
    "s.axes_manager.navigation_axes[1].units = \"um\"\n",
    "pprint(s)"
   ]
  },
  {
   "cell_type": "markdown",
   "id": "3cfecc51-308b-448c-86f3-0129910bc014",
   "metadata": {},
   "source": [
    "Så skriv `s` i cellen under, og kjør den"
   ]
  },
  {
   "cell_type": "markdown",
   "id": "9d932c8a-f56e-4c1c-926d-3a6f88721251",
   "metadata": {},
   "source": [
    "Her ser vi et par viktige ting: signalet er et `EDSSEMSpectrum`, og den har 3 dimensjoner! \n",
    "    \n",
    "Dimensjonene ser vi helt i slutten, som har 3 tall (som nok vil være annerledes for deres datasett): `(1024, 704|2048)`. Tallene til venstre for `|` er navigasjonsdimensjonene, mens tallet til høyre for `|` er signaldimensjonen: `(NAVIGASJON 0, NAVIGASJON 1|SIGNAL 0)`.\n",
    "\n",
    "I denne datatypen, så er de 2 navigasjonsdimensjonene probe-posisjonen, og signaldimensjonen er energien til røntgenstrålene.\n",
    "\n",
    "Dette betyr at signaldimensjonen er 1-dimensjonal, som stemmer bra med at dette er spektroskopisk data."
   ]
  },
  {
   "cell_type": "markdown",
   "id": "4a9c15f2-05c5-4e40-8c3b-890d0a1135fc",
   "metadata": {},
   "source": [
    "## Enkel utforskning av dataene\n",
    "\n",
    "Nå kan vi visualisere dataene, og se hvordan spektrumene ser ut. Bruk `plot` funksjonen i `s`, og utforsk datasettet.\n",
    "\n",
    "Merk: bildene i Jupyter Notebooken kommer til å være forskjellig fra det dere får opp på deres egen datamaskin.\n",
    "\n",
    "<img src=\"figurer/sem_eds_navigator.jpg\" width=900 height=900 />"
   ]
  },
  {
   "cell_type": "code",
   "execution_count": 4,
   "id": "d04a3800-6d28-485d-99ce-8cce92d626bb",
   "metadata": {},
   "outputs": [],
   "source": [
    "s.plot()"
   ]
  },
  {
   "cell_type": "markdown",
   "id": "5cc3f39f-fe7a-48ec-8ae2-138337d45178",
   "metadata": {},
   "source": [
    "Her ser vi at hver probe-posisjon har veldig få røntgen-tellinger, ergo at signalet ikke er særlig bra. Noen steder kan vi se at det er klare topper, men disse er for det meste under 10 tellinger.\n",
    "\n",
    "Dette skal vi gjøre noe med, men først vil vi utforske datasettet som funksjon av røntgenstråle-energien. Bruk transpose funksjonaliteten i `s`, og lag et nytt signal `st`: `st = s.T`"
   ]
  },
  {
   "cell_type": "code",
   "execution_count": 5,
   "id": "96e5a829-58bb-4bb7-9e01-616120af1b17",
   "metadata": {},
   "outputs": [
    {
     "data": {
      "text/plain": [
       "<Signal2D, title: , dimensions: (2048|1024, 704)>"
      ]
     },
     "execution_count": 5,
     "metadata": {},
     "output_type": "execute_result"
    }
   ],
   "source": [
    "st = s.T\n",
    "st"
   ]
  },
  {
   "cell_type": "markdown",
   "id": "e732538d-3740-48a7-baa8-b7ae5f7cd5d2",
   "metadata": {},
   "source": [
    "Skriv `st` i cellen under, og kjør den."
   ]
  },
  {
   "cell_type": "markdown",
   "id": "2c9085c9-d120-4ed1-94b6-4a3eae9a6410",
   "metadata": {},
   "source": [
    "Nå er signalet `Signal2D`: navigasjon- og signal-dimensjonene har blitt byttet om. Så nå kan vi navigere over datasettet som en funksjon av røntgen-energien, istedet for probe-posisjonen.\n",
    "\n",
    "Så plot `st`. Merk at nå er navigatoren i \"røntgen\" plottet.\n",
    "\n",
    "<img src=\"figurer/eds_transpose.jpg\" width=900 height=900 />\n",
    "\n",
    "Flytt navigatoren frem og tilbake, spesielt på de klare toppene, og se om forskjelliges steder på prøven lyser opp."
   ]
  },
  {
   "cell_type": "code",
   "execution_count": 6,
   "id": "0a3e8e09-1663-4c67-b692-8909bda69286",
   "metadata": {},
   "outputs": [],
   "source": [
    "st.plot()"
   ]
  },
  {
   "cell_type": "markdown",
   "id": "c7c890ae-cc05-49d6-8fee-175305b56d5e",
   "metadata": {},
   "source": [
    "Selv her, så er tellingene veldig lave. Så la oss midle over flere probe-posisjoner og detektor-kanaler.\n",
    "\n",
    "For dette, så bruker vi `rebin` funksjonen, som er i `st`. Bruk `scale` parameteren, og sett den til `(4, 8, 8)`, dette betyr at vi summerer 4 detektor-kanaler, 8 x-probe posisjoner, og 8 y-probe posisjoner. Bruk dette til å lage en ny variabel `st_rebin`."
   ]
  },
  {
   "cell_type": "markdown",
   "id": "76798338-c3f9-4433-9986-45c94c4c6cf7",
   "metadata": {},
   "source": [
    "Så kjør `st_rebin`, for å se dimensjonene til dette nye signalet."
   ]
  },
  {
   "cell_type": "code",
   "execution_count": 6,
   "id": "5bc1555e-2469-43ac-a730-4b397c683f78",
   "metadata": {},
   "outputs": [
    {
     "data": {
      "text/plain": [
       "<Signal2D, title: , dimensions: (512|128, 88)>"
      ]
     },
     "execution_count": 6,
     "metadata": {},
     "output_type": "execute_result"
    }
   ],
   "source": [
    "st_rebin = st.rebin(scale=(4, 8, 8))\n",
    "st_rebin"
   ]
  },
  {
   "cell_type": "markdown",
   "id": "e11a984c-9d9b-4964-980b-3baca3d72d7d",
   "metadata": {},
   "source": [
    "Her ser vi at sammenlignet med det orginale `st` signalet, som var `(2048|1024, 704)`, så er `st_rebin` mye mindre. Spesifikt, at den nye størrelsen er `2048 / 4 | 1024 / 8, 704 / 8)`.\n",
    "\n",
    "Deretter plot dette nye `st_rebin` signalet."
   ]
  },
  {
   "cell_type": "code",
   "execution_count": 8,
   "id": "565997e8-2798-4351-8870-18e0d091bf38",
   "metadata": {},
   "outputs": [],
   "source": [
    "st_rebin.plot()"
   ]
  },
  {
   "cell_type": "markdown",
   "id": "4d8fda43-a010-4726-b0be-81a2094aa280",
   "metadata": {},
   "source": [
    "Nå er røntgen-tellingene mye høyere.\n",
    "\n",
    "Så vi ser at det er noe interessant i dataene. Det neste steget er å lage bilder som viser hvor de forskjellige grunnstoffene er."
   ]
  },
  {
   "cell_type": "markdown",
   "id": "b8afdf08-9ce9-49bd-a8b8-d7b9113e741f",
   "metadata": {},
   "source": [
    "## Mer avansert\n",
    "\n",
    "### Finne grunnstoffene\n",
    "\n",
    "Det første vi må gjøre her, er å finne ut hvilke grunnstoffer vi har i prøvematerialet.\n",
    "\n",
    "Enkleste måten å gjøre dette på, er å se på toppene vi har røntgen-signalet, kombinert med det vi vet om prøvematerialet.\n",
    "\n",
    "Så: summer opp alle probeposisjonene, til et røntgen-energi signal. Bruk `sum` funksjonen i `s` til å lage et nytt signal `s_sum`."
   ]
  },
  {
   "cell_type": "code",
   "execution_count": 7,
   "id": "80675cbb-430a-4e2a-93b8-010dbbcf9393",
   "metadata": {},
   "outputs": [],
   "source": [
    "s_sum = s.sum()"
   ]
  },
  {
   "cell_type": "markdown",
   "id": "a660b8c0-b7c0-4564-bb0b-13667579b6c4",
   "metadata": {},
   "source": [
    "Så bruk `plot` funksjonen i `s_sum` til å visualisere dette signal, og finn ut hva slags grunnstoffer vi har.\n",
    "\n",
    "<img src=\"figurer/eds_sum.jpg\" width=900 height=900 />\n",
    "\n",
    "Dere kan se hvilke topper de forskjellige grunnstoffene lager, ved for eksempel å bruke denne: https://www.jeolusa.com/DesktopModules/LiveContent/API/Image/Get?mid=4725&eid=1&Type=View&PortalId=2"
   ]
  },
  {
   "cell_type": "code",
   "execution_count": 8,
   "id": "2feb2d09-4514-4195-bce8-186192d7511b",
   "metadata": {},
   "outputs": [],
   "source": [
    "s_sum.plot()\n",
    "\n",
    "# Topper for eksempeldata [keV]:\n",
    "# 0.84  Nikkel\n",
    "# 1.74  Silisium\n",
    "# 1.47  (Aluminium?)\n",
    "# 0.72  Jern\n",
    "# 0.38  Nitrogen\n",
    "# 0.26  Karbon \n",
    "# 0.51  (Oksygen?)\n",
    "# 0.017 (Beryllium ???? Liten peak)\n",
    "# 7.46  Nikkel\n",
    "# 6.39  Jern\n",
    "\n",
    "# Topper for regulaer [keV]:\n",
    "# 0.847 Nikkel\n",
    "# 1.742 Silisium\n",
    "# 0.72  Jern\n",
    "# 0.38  Nitrogen\n",
    "# 0.036 ????\n",
    "# 1.10  (Gallium???? Vi har ikke deponert)\n",
    "# 0.512 (Oksygen?)\n",
    "# 0.26  (Karbon?)\n",
    "# 1.477 (Aluminium?)"
   ]
  },
  {
   "cell_type": "markdown",
   "id": "02b8600b-0bbb-4bf4-927f-31a53f007acf",
   "metadata": {},
   "source": [
    "**Gå igjennom alle toppene, og prøv å finn ut hvilket grunnstoff de tilhører.**\n",
    "\n",
    "Merk at samme grunnstoff kan ha flere topper, så hvis dere er usikre så er et triks å sjekke om de andre toppene også er med spektrumet."
   ]
  },
  {
   "cell_type": "markdown",
   "id": "29f74d41-2d17-4af5-8415-6f49ab4b79df",
   "metadata": {},
   "source": [
    "### Rebinning av signalet\n",
    "\n",
    "Som vi så tidligere, så er det litt få signaler i hver probe-posisjon. Så før vi begynner med den mer avanserte prosesseringen, så bruk `rebin` funksjonen i `s`, og bruk `scale` parameteren med `(8, 8, 1)` til å summere 8 x 8 probe-posisjoner. Bruk dette til å lage en ny variabel, `s_rebin`.\n",
    "\n",
    "Hvis du er usikker på hvordan du gjør dette, husk at du kan få opp `docstring` for alle funksjoner i python ved å ha en `?` etter funksjonen. Så her, `s.rebin?`."
   ]
  },
  {
   "cell_type": "code",
   "execution_count": 9,
   "id": "e143c250-be10-4ebc-b7f6-8078c784d1e8",
   "metadata": {},
   "outputs": [
    {
     "data": {
      "text/plain": [
       "<EDSSEMSpectrum, title: , dimensions: (128, 88|2048)>"
      ]
     },
     "execution_count": 9,
     "metadata": {},
     "output_type": "execute_result"
    }
   ],
   "source": [
    "s_rebin = s.rebin(scale=(8, 8, 1))\n",
    "s_rebin"
   ]
  },
  {
   "cell_type": "markdown",
   "id": "264cb8f4-ebe6-4abf-b34c-7c5bde2e5577",
   "metadata": {},
   "source": [
    "### Legge til grunnstoffene i signalet\n",
    "\n",
    "Nå som dere har funnet grunnstoffene, så må de legges til i `s_rebin` signalet.\n",
    "\n",
    "Dette gjøres via `set_elements` funksjonen som er i `s_rebin`. Parameter som skal til `set_elements` må være en liste, og hvert grunnstoff må være i formen `\"Si\"`, `\"Fe\"`, ...\n",
    "\n",
    "Tips: se i docstring til `set_elements` via \"Shift + Tab\" på tastaturet."
   ]
  },
  {
   "cell_type": "code",
   "execution_count": 10,
   "id": "a1ac46c2-8319-4476-bf46-716b064044d2",
   "metadata": {},
   "outputs": [],
   "source": [
    "s_rebin.set_elements([\"Ni\", \"Si\", \"Fe\", \"C\", \"Ga\"])"
   ]
  },
  {
   "cell_type": "markdown",
   "id": "1b630b4a-e891-4577-8021-ff3f879beb3e",
   "metadata": {},
   "source": [
    "Sjekk at alt har blitt lagt til, via `metadata.Sample` attribute i `s_rebin`"
   ]
  },
  {
   "cell_type": "code",
   "execution_count": 11,
   "id": "83d6f7fd-bbe8-404d-851c-adcd6e1d1c52",
   "metadata": {},
   "outputs": [
    {
     "data": {
      "text/html": [
       "<ul style=\"margin: 0px; list-style-position: outside;\">\n",
       "                    <details open>\n",
       "                    <summary style=\"display: list-item;\">\n",
       "                    <li style=\"display: inline;\">\n",
       "                    Acquisition_instrument\n",
       "                    </li></summary>\n",
       "                    <ul style=\"margin: 0px; list-style-position: outside;\">\n",
       "                    <details closed>\n",
       "                    <summary style=\"display: list-item;\">\n",
       "                    <li style=\"display: inline;\">\n",
       "                    SEM\n",
       "                    </li></summary>\n",
       "                    <ul style=\"margin: 0px; list-style-position: outside;\">\n",
       "                    <details closed>\n",
       "                    <summary style=\"display: list-item;\">\n",
       "                    <li style=\"display: inline;\">\n",
       "                    Detector\n",
       "                    </li></summary>\n",
       "                    <ul style=\"margin: 0px; list-style-position: outside;\">\n",
       "                    <details closed>\n",
       "                    <summary style=\"display: list-item;\">\n",
       "                    <li style=\"display: inline;\">\n",
       "                    EDS\n",
       "                    </li></summary>\n",
       "                    \n",
       "    <ul style=\"margin: 0px; list-style-position: outside;\">\n",
       "    <li style='margin-left:1em; padding-left: 0.5em'>azimuth_angle = 0.0</li></ul>\n",
       "    \n",
       "    <ul style=\"margin: 0px; list-style-position: outside;\">\n",
       "    <li style='margin-left:1em; padding-left: 0.5em'>elevation_angle = 35.0</li></ul>\n",
       "    \n",
       "    <ul style=\"margin: 0px; list-style-position: outside;\">\n",
       "    <li style='margin-left:1em; padding-left: 0.5em'>energy_resolution_MnKa = 130.0</li></ul>\n",
       "    \n",
       "    <ul style=\"margin: 0px; list-style-position: outside;\">\n",
       "    <li style='margin-left:1em; padding-left: 0.5em'>live_time = 7843.348632832</li></ul>\n",
       "    \n",
       "    <ul style=\"margin: 0px; list-style-position: outside;\">\n",
       "    <li style='margin-left:1em; padding-left: 0.5em'>real_time = 8547.232421888</li></ul>\n",
       "    </details></ul></details></ul><ul style=\"margin: 0px; list-style-position: outside;\">\n",
       "                    <details closed>\n",
       "                    <summary style=\"display: list-item;\">\n",
       "                    <li style=\"display: inline;\">\n",
       "                    Stage\n",
       "                    </li></summary>\n",
       "                    \n",
       "    <ul style=\"margin: 0px; list-style-position: outside;\">\n",
       "    <li style='margin-left:1em; padding-left: 0.5em'>tilt_alpha = 0.0</li></ul>\n",
       "    </details></ul>\n",
       "    <ul style=\"margin: 0px; list-style-position: outside;\">\n",
       "    <li style='margin-left:1em; padding-left: 0.5em'>beam_energy = 5.0</li></ul>\n",
       "    </details></ul></details></ul><ul style=\"margin: 0px; list-style-position: outside;\">\n",
       "                    <details open>\n",
       "                    <summary style=\"display: list-item;\">\n",
       "                    <li style=\"display: inline;\">\n",
       "                    General\n",
       "                    </li></summary>\n",
       "                    <ul style=\"margin: 0px; list-style-position: outside;\">\n",
       "                    <details closed>\n",
       "                    <summary style=\"display: list-item;\">\n",
       "                    <li style=\"display: inline;\">\n",
       "                    FileIO\n",
       "                    </li></summary>\n",
       "                    <ul style=\"margin: 0px; list-style-position: outside;\">\n",
       "                    <details closed>\n",
       "                    <summary style=\"display: list-item;\">\n",
       "                    <li style=\"display: inline;\">\n",
       "                    0\n",
       "                    </li></summary>\n",
       "                    \n",
       "    <ul style=\"margin: 0px; list-style-position: outside;\">\n",
       "    <li style='margin-left:1em; padding-left: 0.5em'>hyperspy_version = 1.7.2</li></ul>\n",
       "    \n",
       "    <ul style=\"margin: 0px; list-style-position: outside;\">\n",
       "    <li style='margin-left:1em; padding-left: 0.5em'>io_plugin = hyperspy.io_plugins.ripple</li></ul>\n",
       "    \n",
       "    <ul style=\"margin: 0px; list-style-position: outside;\">\n",
       "    <li style='margin-left:1em; padding-left: 0.5em'>operation = load</li></ul>\n",
       "    \n",
       "    <ul style=\"margin: 0px; list-style-position: outside;\">\n",
       "    <li style='margin-left:1em; padding-left: 0.5em'>timestamp = 2022-11-02T10:12:39.117822+01:00</li></ul>\n",
       "    </details></ul></details></ul>\n",
       "    <ul style=\"margin: 0px; list-style-position: outside;\">\n",
       "    <li style='margin-left:1em; padding-left: 0.5em'>date = </li></ul>\n",
       "    \n",
       "    <ul style=\"margin: 0px; list-style-position: outside;\">\n",
       "    <li style='margin-left:1em; padding-left: 0.5em'>original_filename = EDS Data 2.rpl</li></ul>\n",
       "    \n",
       "    <ul style=\"margin: 0px; list-style-position: outside;\">\n",
       "    <li style='margin-left:1em; padding-left: 0.5em'>time = </li></ul>\n",
       "    \n",
       "    <ul style=\"margin: 0px; list-style-position: outside;\">\n",
       "    <li style='margin-left:1em; padding-left: 0.5em'>title = </li></ul>\n",
       "    </details></ul><ul style=\"margin: 0px; list-style-position: outside;\">\n",
       "                    <details open>\n",
       "                    <summary style=\"display: list-item;\">\n",
       "                    <li style=\"display: inline;\">\n",
       "                    Sample\n",
       "                    </li></summary>\n",
       "                    \n",
       "    <ul style=\"margin: 0px; list-style-position: outside;\">\n",
       "    <li style='margin-left:1em; padding-left: 0.5em'>elements = ['C', 'Fe', 'Ga', 'Ni', 'Si']</li></ul>\n",
       "    </details></ul><ul style=\"margin: 0px; list-style-position: outside;\">\n",
       "                    <details open>\n",
       "                    <summary style=\"display: list-item;\">\n",
       "                    <li style=\"display: inline;\">\n",
       "                    Signal\n",
       "                    </li></summary>\n",
       "                    \n",
       "    <ul style=\"margin: 0px; list-style-position: outside;\">\n",
       "    <li style='margin-left:1em; padding-left: 0.5em'>signal_type = EDS_SEM</li></ul>\n",
       "    </details></ul>"
      ],
      "text/plain": [
       "├── Acquisition_instrument\n",
       "│   └── SEM\n",
       "│       ├── Detector\n",
       "│       │   └── EDS\n",
       "│       │       ├── azimuth_angle = 0.0\n",
       "│       │       ├── elevation_angle = 35.0\n",
       "│       │       ├── energy_resolution_MnKa = 130.0\n",
       "│       │       ├── live_time = 7843.348632832\n",
       "│       │       └── real_time = 8547.232421888\n",
       "│       ├── Stage\n",
       "│       │   └── tilt_alpha = 0.0\n",
       "│       └── beam_energy = 5.0\n",
       "├── General\n",
       "│   ├── FileIO\n",
       "│   │   └── 0\n",
       "│   │       ├── hyperspy_version = 1.7.2\n",
       "│   │       ├── io_plugin = hyperspy.io_plugins.ripple\n",
       "│   │       ├── operation = load\n",
       "│   │       └── timestamp = 2022-11-02T10:12:39.117822+01:00\n",
       "│   ├── date = \n",
       "│   ├── original_filename = EDS Data 2.rpl\n",
       "│   ├── time = \n",
       "│   └── title = \n",
       "├── Sample\n",
       "│   └── elements = ['C', 'Fe', 'Ga', 'Ni', 'Si']\n",
       "└── Signal\n",
       "    └── signal_type = EDS_SEM"
      ]
     },
     "execution_count": 11,
     "metadata": {},
     "output_type": "execute_result"
    }
   ],
   "source": [
    "s_rebin.metadata"
   ]
  },
  {
   "cell_type": "markdown",
   "id": "f261f726-9f81-47b9-97c1-fd155fe787b3",
   "metadata": {},
   "source": [
    "Så legger vi til røntgen linjene til disse grunnstoffene, via `add_lines` funksjonen i `s_rebin`"
   ]
  },
  {
   "cell_type": "code",
   "execution_count": 12,
   "id": "2499ed65-5f5f-408d-bf4f-4d2616d74413",
   "metadata": {},
   "outputs": [],
   "source": [
    "s_rebin.add_lines()"
   ]
  },
  {
   "cell_type": "markdown",
   "id": "b8df5f66-8395-4df9-9c52-b1c310a1c761",
   "metadata": {},
   "source": [
    "Så se hva som har blitt lagt til i metadataen, via `metadata.Sample` attribute i `s_rebin`"
   ]
  },
  {
   "cell_type": "code",
   "execution_count": 13,
   "id": "f8d168b7-1292-43e3-b021-f56ef9f8b55f",
   "metadata": {},
   "outputs": [
    {
     "data": {
      "text/html": [
       "<ul style=\"margin: 0px; list-style-position: outside;\">\n",
       "                    <details open>\n",
       "                    <summary style=\"display: list-item;\">\n",
       "                    <li style=\"display: inline;\">\n",
       "                    Acquisition_instrument\n",
       "                    </li></summary>\n",
       "                    <ul style=\"margin: 0px; list-style-position: outside;\">\n",
       "                    <details closed>\n",
       "                    <summary style=\"display: list-item;\">\n",
       "                    <li style=\"display: inline;\">\n",
       "                    SEM\n",
       "                    </li></summary>\n",
       "                    <ul style=\"margin: 0px; list-style-position: outside;\">\n",
       "                    <details closed>\n",
       "                    <summary style=\"display: list-item;\">\n",
       "                    <li style=\"display: inline;\">\n",
       "                    Detector\n",
       "                    </li></summary>\n",
       "                    <ul style=\"margin: 0px; list-style-position: outside;\">\n",
       "                    <details closed>\n",
       "                    <summary style=\"display: list-item;\">\n",
       "                    <li style=\"display: inline;\">\n",
       "                    EDS\n",
       "                    </li></summary>\n",
       "                    \n",
       "    <ul style=\"margin: 0px; list-style-position: outside;\">\n",
       "    <li style='margin-left:1em; padding-left: 0.5em'>azimuth_angle = 0.0</li></ul>\n",
       "    \n",
       "    <ul style=\"margin: 0px; list-style-position: outside;\">\n",
       "    <li style='margin-left:1em; padding-left: 0.5em'>elevation_angle = 35.0</li></ul>\n",
       "    \n",
       "    <ul style=\"margin: 0px; list-style-position: outside;\">\n",
       "    <li style='margin-left:1em; padding-left: 0.5em'>energy_resolution_MnKa = 130.0</li></ul>\n",
       "    \n",
       "    <ul style=\"margin: 0px; list-style-position: outside;\">\n",
       "    <li style='margin-left:1em; padding-left: 0.5em'>live_time = 7843.348632832</li></ul>\n",
       "    \n",
       "    <ul style=\"margin: 0px; list-style-position: outside;\">\n",
       "    <li style='margin-left:1em; padding-left: 0.5em'>real_time = 8547.232421888</li></ul>\n",
       "    </details></ul></details></ul><ul style=\"margin: 0px; list-style-position: outside;\">\n",
       "                    <details closed>\n",
       "                    <summary style=\"display: list-item;\">\n",
       "                    <li style=\"display: inline;\">\n",
       "                    Stage\n",
       "                    </li></summary>\n",
       "                    \n",
       "    <ul style=\"margin: 0px; list-style-position: outside;\">\n",
       "    <li style='margin-left:1em; padding-left: 0.5em'>tilt_alpha = 0.0</li></ul>\n",
       "    </details></ul>\n",
       "    <ul style=\"margin: 0px; list-style-position: outside;\">\n",
       "    <li style='margin-left:1em; padding-left: 0.5em'>beam_energy = 5.0</li></ul>\n",
       "    </details></ul></details></ul><ul style=\"margin: 0px; list-style-position: outside;\">\n",
       "                    <details open>\n",
       "                    <summary style=\"display: list-item;\">\n",
       "                    <li style=\"display: inline;\">\n",
       "                    General\n",
       "                    </li></summary>\n",
       "                    <ul style=\"margin: 0px; list-style-position: outside;\">\n",
       "                    <details closed>\n",
       "                    <summary style=\"display: list-item;\">\n",
       "                    <li style=\"display: inline;\">\n",
       "                    FileIO\n",
       "                    </li></summary>\n",
       "                    <ul style=\"margin: 0px; list-style-position: outside;\">\n",
       "                    <details closed>\n",
       "                    <summary style=\"display: list-item;\">\n",
       "                    <li style=\"display: inline;\">\n",
       "                    0\n",
       "                    </li></summary>\n",
       "                    \n",
       "    <ul style=\"margin: 0px; list-style-position: outside;\">\n",
       "    <li style='margin-left:1em; padding-left: 0.5em'>hyperspy_version = 1.7.2</li></ul>\n",
       "    \n",
       "    <ul style=\"margin: 0px; list-style-position: outside;\">\n",
       "    <li style='margin-left:1em; padding-left: 0.5em'>io_plugin = hyperspy.io_plugins.ripple</li></ul>\n",
       "    \n",
       "    <ul style=\"margin: 0px; list-style-position: outside;\">\n",
       "    <li style='margin-left:1em; padding-left: 0.5em'>operation = load</li></ul>\n",
       "    \n",
       "    <ul style=\"margin: 0px; list-style-position: outside;\">\n",
       "    <li style='margin-left:1em; padding-left: 0.5em'>timestamp = 2022-11-02T10:12:39.117822+01:00</li></ul>\n",
       "    </details></ul></details></ul>\n",
       "    <ul style=\"margin: 0px; list-style-position: outside;\">\n",
       "    <li style='margin-left:1em; padding-left: 0.5em'>date = </li></ul>\n",
       "    \n",
       "    <ul style=\"margin: 0px; list-style-position: outside;\">\n",
       "    <li style='margin-left:1em; padding-left: 0.5em'>original_filename = EDS Data 2.rpl</li></ul>\n",
       "    \n",
       "    <ul style=\"margin: 0px; list-style-position: outside;\">\n",
       "    <li style='margin-left:1em; padding-left: 0.5em'>time = </li></ul>\n",
       "    \n",
       "    <ul style=\"margin: 0px; list-style-position: outside;\">\n",
       "    <li style='margin-left:1em; padding-left: 0.5em'>title = </li></ul>\n",
       "    </details></ul><ul style=\"margin: 0px; list-style-position: outside;\">\n",
       "                    <details open>\n",
       "                    <summary style=\"display: list-item;\">\n",
       "                    <li style=\"display: inline;\">\n",
       "                    Sample\n",
       "                    </li></summary>\n",
       "                    \n",
       "    <ul style=\"margin: 0px; list-style-position: outside;\">\n",
       "    <li style='margin-left:1em; padding-left: 0.5em'>elements = ['C', 'Fe', 'Ga', 'Ni', 'Si']</li></ul>\n",
       "    \n",
       "    <ul style=\"margin: 0px; list-style-position: outside;\">\n",
       "    <li style='margin-left:1em; padding-left: 0.5em'>xray_lines = ['C_Ka', 'Fe_La', 'Ga_La', 'Ni_La', 'Si_Ka']</li></ul>\n",
       "    </details></ul><ul style=\"margin: 0px; list-style-position: outside;\">\n",
       "                    <details open>\n",
       "                    <summary style=\"display: list-item;\">\n",
       "                    <li style=\"display: inline;\">\n",
       "                    Signal\n",
       "                    </li></summary>\n",
       "                    \n",
       "    <ul style=\"margin: 0px; list-style-position: outside;\">\n",
       "    <li style='margin-left:1em; padding-left: 0.5em'>signal_type = EDS_SEM</li></ul>\n",
       "    </details></ul>"
      ],
      "text/plain": [
       "├── Acquisition_instrument\n",
       "│   └── SEM\n",
       "│       ├── Detector\n",
       "│       │   └── EDS\n",
       "│       │       ├── azimuth_angle = 0.0\n",
       "│       │       ├── elevation_angle = 35.0\n",
       "│       │       ├── energy_resolution_MnKa = 130.0\n",
       "│       │       ├── live_time = 7843.348632832\n",
       "│       │       └── real_time = 8547.232421888\n",
       "│       ├── Stage\n",
       "│       │   └── tilt_alpha = 0.0\n",
       "│       └── beam_energy = 5.0\n",
       "├── General\n",
       "│   ├── FileIO\n",
       "│   │   └── 0\n",
       "│   │       ├── hyperspy_version = 1.7.2\n",
       "│   │       ├── io_plugin = hyperspy.io_plugins.ripple\n",
       "│   │       ├── operation = load\n",
       "│   │       └── timestamp = 2022-11-02T10:12:39.117822+01:00\n",
       "│   ├── date = \n",
       "│   ├── original_filename = EDS Data 2.rpl\n",
       "│   ├── time = \n",
       "│   └── title = \n",
       "├── Sample\n",
       "│   ├── elements = ['C', 'Fe', 'Ga', 'Ni', 'Si']\n",
       "│   └── xray_lines = ['C_Ka', 'Fe_La', 'Ga_La', 'Ni_La', 'Si_Ka']\n",
       "└── Signal\n",
       "    └── signal_type = EDS_SEM"
      ]
     },
     "execution_count": 13,
     "metadata": {},
     "output_type": "execute_result"
    }
   ],
   "source": [
    "s_rebin.metadata"
   ]
  },
  {
   "cell_type": "markdown",
   "id": "bfbe2ac2-5701-45d1-851c-b48e0ecc5db2",
   "metadata": {},
   "source": [
    "Her ser dere at det bare har blitt lagt til en linje per grunnstoff. Dette er fordi den med lavest energi er det mest relevant.\n",
    "\n",
    "Dette kan dere så plotte, ved å bruke `plot` med `xray_lines=True` argumentet"
   ]
  },
  {
   "cell_type": "code",
   "execution_count": 12,
   "id": "2cbd1fd0-e8b0-4ba9-ad02-38353bc12301",
   "metadata": {},
   "outputs": [],
   "source": [
    "s_rebin.plot(xray_lines=True)"
   ]
  },
  {
   "cell_type": "markdown",
   "id": "64706574-b8cf-49f4-988d-1d89b42f8e28",
   "metadata": {},
   "source": [
    "Så kan vi hente ut intensiteten for alle disse linjene, over hele datasettet.\n",
    "\n",
    "Til dette bruker vi `get_lines_intensity` som er i `s_rebin`. Lagre resultatet til dette i en ny variabel: `linjer`. I tillegg, så bruk `plot_result=True` i `get_lines_intensity`. Dette vil åpne en plotte-vindu for hvert grunnstoff."
   ]
  },
  {
   "cell_type": "code",
   "execution_count": 14,
   "id": "b300a073-d2fa-4c1d-a8f3-8fc396bcb736",
   "metadata": {},
   "outputs": [],
   "source": [
    "linjer = s_rebin.get_lines_intensity() #plot_result=True)"
   ]
  },
  {
   "cell_type": "markdown",
   "id": "f342df23-413e-4cdf-a34f-d740b8c27f83",
   "metadata": {},
   "source": [
    "Så kan vi se hva som er i `linjer` variablen. Skriv `linjer` i cellen under, og kjør den."
   ]
  },
  {
   "cell_type": "code",
   "execution_count": 15,
   "id": "dc90a52c-b469-4ee4-a957-3907cbb2256c",
   "metadata": {},
   "outputs": [
    {
     "data": {
      "text/plain": [
       "[<BaseSignal, title: X-ray line intensity of : C_Ka at 0.28 keV, dimensions: (128, 88|)>,\n",
       " <BaseSignal, title: X-ray line intensity of : Fe_La at 0.70 keV, dimensions: (128, 88|)>,\n",
       " <BaseSignal, title: X-ray line intensity of : Ga_La at 1.10 keV, dimensions: (128, 88|)>,\n",
       " <BaseSignal, title: X-ray line intensity of : Ni_La at 0.85 keV, dimensions: (128, 88|)>,\n",
       " <BaseSignal, title: X-ray line intensity of : Si_Ka at 1.74 keV, dimensions: (128, 88|)>]"
      ]
     },
     "execution_count": 15,
     "metadata": {},
     "output_type": "execute_result"
    }
   ],
   "source": [
    "linjer"
   ]
  },
  {
   "cell_type": "markdown",
   "id": "1e98a18e-c023-4b7f-bbf4-cd7fd5083a2d",
   "metadata": {},
   "source": [
    "#### Sjekke integrasjonsvinduet"
   ]
  },
  {
   "cell_type": "markdown",
   "id": "e767c5b9-fc00-4b38-acb2-935b0eb7ac0c",
   "metadata": {},
   "source": [
    "Her ser vi at den er en liste med signaler, et for hvert grunnstoff. For å plotte dem: `linjer[0].plot()`\n",
    "\n",
    "Et mulig problem med denne typen prosessering, er hvis røntgen-linjene er så nærme at de overlapper. En måte å sjekke dette på, er å se hvor \"bredde\" integrasjonsvinduene er.\n",
    "\n",
    "Dette gjøres enkelts med å først å summere datasettet igjen. Bruk `sum` via `s_rebin`, til å lage en ny variabel `s_sum2`."
   ]
  },
  {
   "cell_type": "code",
   "execution_count": 12,
   "id": "d9c2f407-0b6e-4820-8735-f9c3f763d745",
   "metadata": {},
   "outputs": [],
   "source": [
    "linjer[0].plot()\n",
    "s_sum2 = s_rebin.sum()"
   ]
  },
  {
   "cell_type": "markdown",
   "id": "53a4b88c-5a47-4d20-bcb7-de130bd0525b",
   "metadata": {},
   "source": [
    "Så `plot` `s_sum2`, med argumentet `integration_windows='auto'`. Bruk forstørrelse-funksjonen til å sjekke at det ikke er for mye overlapp."
   ]
  },
  {
   "cell_type": "code",
   "execution_count": 16,
   "id": "f82127b0-0026-495d-b2db-130b93fb7b45",
   "metadata": {},
   "outputs": [],
   "source": [
    "s_sum2.plot(integration_windows='auto')"
   ]
  },
  {
   "cell_type": "markdown",
   "id": "2d87f66f-2d46-4b02-bd4b-349272a6238d",
   "metadata": {},
   "source": [
    "### Lage bilder av hvor grunnstoffene er\n",
    "\n",
    "Nå som vi kan se hvor de forskjellige grunnstoffene er, så lager vi en figur som viser dette.\n",
    "\n",
    "Først henter vi ut et og et grunnstoff, kall disse `s_si`, `s_fe`, ... . Siden `linjer` er en liste, så gjøres dette med `linjer[0]`, `linjer[1]`, ... . Pass på å sjekke hvilket grunnstoff de forskjellige signalene er!\n",
    "\n",
    "Viktig: disse signalene må transposes! Så kommandoen blir `linjer[0].T`."
   ]
  },
  {
   "cell_type": "code",
   "execution_count": 16,
   "id": "5bafd50d-289c-4556-888d-2dfd8f75bcfb",
   "metadata": {},
   "outputs": [],
   "source": [
    "s_car, s_fe, s_ga, s_ni, s_si = linjer\n",
    "s_car, s_fe, s_ga, s_ni, s_si = s_car.T, s_fe.T, s_ga.T, s_ni.T, s_si.T\n",
    "# s_ga.plot()"
   ]
  },
  {
   "cell_type": "markdown",
   "id": "14e2580b-c5b5-4dfa-ad58-e2a2bffb8de7",
   "metadata": {},
   "source": [
    "Så kan vi lage en matplotlib figur med et subplot per grunnstoffer dere har.\n",
    "\n",
    "- Tips 1: har dere backscatter elektron eller Sekundærelektron bilde, så er det også fint å ta med! Da må dere ha et ekstra subplot i tillegg.\n",
    "- Tips 2: hvis dere har veldig mange grunnstoff, så kan den være en fordel å ha 2 vertikale rader med subplot.\n",
    "- Tips 3: bruk figsize parameteren til å lage figures større, slik at subplotene passer inn. F.eks. hvis dere har 4 horisontale subplot, så kan `figsize=(20, 5)` passe bra.\n",
    "\n",
    "Importer matplotlib, lag figur og subplot objekter."
   ]
  },
  {
   "cell_type": "code",
   "execution_count": 17,
   "id": "5c074230",
   "metadata": {},
   "outputs": [],
   "source": [
    "fontprops = fm.FontProperties(size=18)\n",
    "\n",
    "scalebar_kwargs = {'size': 5, 'label': '5 um', 'loc': 4, 'frameon': False, 'color': 'white', 'size_vertical': 0.2, 'label_top': False, 'fontproperties': fontprops}\n",
    "nice_effect = [patheffects.withStroke(linewidth=2, foreground='black', capstyle=\"round\")]\n",
    "\n",
    "def add_scalebar(ax: plt.Axes): \n",
    "    scalebar = AnchoredSizeBar(transform=ax.transData, **scalebar_kwargs)\n",
    "    # Denne legger til et svart omriss rundt scalebar teksten, for å gjøre den lettere å lese\n",
    "    scalebar.txt_label._text.set_path_effects(nice_effect)\n",
    "    ax.add_artist(scalebar)"
   ]
  },
  {
   "cell_type": "code",
   "execution_count": 23,
   "id": "b6140721",
   "metadata": {},
   "outputs": [
    {
     "name": "stdout",
     "output_type": "stream",
     "text": [
      "(0.048535156249999996, 14.13759765625, 0.048535156249999996, 9.70009765625)\n"
     ]
    }
   ],
   "source": [
    "pprint(s_ni.axes_manager.signal_extent)"
   ]
  },
  {
   "cell_type": "code",
   "execution_count": 30,
   "id": "965c0be5-7947-43bd-9ce5-f7c384a96959",
   "metadata": {},
   "outputs": [],
   "source": [
    "fig, axs = plt.subplots(2, 2)\n",
    "axs: list[plt.Axes] = axs.flat\n",
    "for ax in axs:\n",
    "    ax.axis(\"off\")\n",
    "    add_scalebar(ax)\n",
    "\n",
    "cax_ni = axs[0].imshow(s_ni, cmap=\"Blues_r\" ,extent=s_ni.axes_manager.signal_extent)\n",
    "cax_ni.set_clim(17, 45)\n",
    "axs[0].annotate(\"Ni\", (0.05, 0.80), xycoords=\"axes fraction\", fontsize=20, color=\"white\", path_effects=nice_effect)\n",
    "fig.colorbar(cax_ni, ax=axs[0], fraction=0.033, pad=0.04)\n",
    "\n",
    "cax_si = axs[1].imshow(s_si, cmap=\"Reds_r\", extent=s_si.axes_manager.signal_extent)\n",
    "cax_si.set_clim(5, 20)\n",
    "axs[1].annotate(\"Si\", (0.05, 0.80), xycoords=\"axes fraction\", fontsize=20, color=\"white\", path_effects=nice_effect)\n",
    "fig.colorbar(cax_si, ax=axs[1], fraction=0.033, pad=0.04)\n",
    "\n",
    "cax_fe = axs[2].imshow(s_fe, cmap=\"Greens_r\", extent=s_fe.axes_manager.signal_extent)\n",
    "cax_fe.set_clim(3, 14)\n",
    "axs[2].annotate(\"Fe\", (0.05, 0.80), xycoords=\"axes fraction\", fontsize=20, color=\"white\", path_effects=nice_effect)\n",
    "fig.colorbar(cax_fe, ax=axs[2], fraction=0.033, pad=0.04)\n",
    "\n",
    "cax_ga = axs[3].imshow(s_ga, cmap=\"Purples_r\", extent=s_ga.axes_manager.signal_extent)\n",
    "cax_ga.set_clim(2, 12)\n",
    "axs[3].annotate(\"Ga\", (0.05, 0.80), xycoords=\"axes fraction\", fontsize=20, color=\"white\", path_effects=nice_effect)\n",
    "fig.colorbar(cax_ga, ax=axs[3], fraction=0.033, pad=0.04)\n",
    "\n",
    "fig.tight_layout()\n",
    "# fig.savefig(\"regulaer_eds.png\", dpi=300)"
   ]
  },
  {
   "cell_type": "markdown",
   "id": "e3bfe459-e57e-48a4-a676-c5b88f4a3426",
   "metadata": {},
   "source": [
    "Så bruk `imshow` med forskjellige fargekart (`cmap`) til å visualisere dataene: for eksempel `\"Blues_r\"`, `\"Greens_r\"`, ... Se [matplotlib dokumentasjonen](https://matplotlib.org/stable/tutorials/colors/colormaps.html) for en fullstendig liste over alle fargekartene.\n",
    "\n",
    "Et ekstra plotte-element som burde være med her er en ting som viser antall tellinger. Dette gjøres ved å:\n",
    "\n",
    "- `cax_si = ax_si.imshow(....., extent=s_si.axes_manager.signal_extent, ....)` "
   ]
  },
  {
   "cell_type": "markdown",
   "id": "7986c34a-d6fd-4d7a-9f96-a0075c5b52da",
   "metadata": {},
   "source": [
    "### Sette clim\n",
    "\n",
    "I noen datasett, så kan det være vanskelig å se de interessante delene av dataene, fordi andre deler av datasettet entent har veldig høye eller veldig lave verdier.\n",
    "\n",
    "Hvis dette er tilfellet, så bruk `cax_...` variablene til å sette \"fargenivået\" i plottene. Dette gjøres via `set_clim` funksjonen i (f.eks.) `cax_si`.\n",
    "\n",
    "Merk at dere må finne ut hva de gode verdiene er her. En måte å gjøre det er å plotte dataene (f.eks. i `s_si`), flytte musepekeren over de interessante områdene, og se hva verdien er der (helt øverst til høyre `intensity`)."
   ]
  },
  {
   "cell_type": "code",
   "execution_count": null,
   "id": "e3853a22-aeec-42f3-ba89-8c41f625e4d7",
   "metadata": {},
   "outputs": [],
   "source": []
  },
  {
   "cell_type": "markdown",
   "id": "bba4083f-401b-4176-b0a3-934fc58799a6",
   "metadata": {},
   "source": [
    "#### Legge til colorbars\n",
    "\n",
    "I denne typen figurer, så er det fint å vise hvor mange tellinger man har. Dette gjøres via `colorbar`.\n",
    "\n",
    "- `fig.colorbar(cax_si, ax=ax_si, label=\"Si\")`\n",
    "\n",
    "Merk: hvis dere får to colorbars på samme sublplot, så har dere kjørt `fig.colorbar(...)` to ganger på samme subplot. For å fikse dette, så lag figuren på nytt, fra `plt.subplots(...)`."
   ]
  },
  {
   "cell_type": "code",
   "execution_count": null,
   "id": "4ada3f13-9624-445c-bc47-fc821474d29a",
   "metadata": {},
   "outputs": [],
   "source": []
  },
  {
   "cell_type": "code",
   "execution_count": null,
   "id": "60498f32-8b8e-4e50-8adb-bb558b411d78",
   "metadata": {},
   "outputs": [],
   "source": []
  },
  {
   "cell_type": "code",
   "execution_count": null,
   "id": "c800a944-589a-43bb-9e87-38a1df33b91d",
   "metadata": {},
   "outputs": [],
   "source": []
  },
  {
   "cell_type": "code",
   "execution_count": null,
   "id": "6c2c514d-430f-4eb7-863e-618402bbf9d5",
   "metadata": {},
   "outputs": [],
   "source": []
  },
  {
   "cell_type": "code",
   "execution_count": null,
   "id": "16ff3420-27d6-4f94-8896-48a71ca3b73d",
   "metadata": {},
   "outputs": [],
   "source": []
  },
  {
   "cell_type": "markdown",
   "id": "82fa60bf-f719-43f8-a907-ec9c92425a90",
   "metadata": {},
   "source": [
    "Så bruk tingene dere har lært i de andre dataøvingen, til å lage en figur:\n",
    "\n",
    "- Legg til scalebar\n",
    "- Ha annoteringer (a, b, c, ...), skriv hvilket grunnstoff det er: \"Fe\", \"Si\", ...\n",
    "- Fjern tomrommet som kommer rundt plottene\n",
    "- Fjern tallene som er rundt bildene. Her må dere mest sannsynlig manuelt stille på `figsize` til det blir bra\n",
    "\n",
    "Eksempel på en sånn figur, men uten alle annoteringene\n",
    "\n",
    "<img src=\"figurer/eds_kart.jpg\" width=900 height=900 />"
   ]
  },
  {
   "cell_type": "code",
   "execution_count": null,
   "id": "23823ed0-9b48-4118-afa7-98116160b2a8",
   "metadata": {},
   "outputs": [],
   "source": [
    "\n",
    "\n"
   ]
  },
  {
   "cell_type": "code",
   "execution_count": null,
   "id": "3ef715da-e67c-4fa3-815f-293da615141a",
   "metadata": {},
   "outputs": [],
   "source": []
  },
  {
   "cell_type": "code",
   "execution_count": null,
   "id": "db55bcc3-94d8-4986-bca9-415dabece46e",
   "metadata": {},
   "outputs": [],
   "source": []
  }
 ],
 "metadata": {
  "kernelspec": {
   "display_name": "Python 3.10.6 64-bit",
   "language": "python",
   "name": "python3"
  },
  "language_info": {
   "codemirror_mode": {
    "name": "ipython",
    "version": 3
   },
   "file_extension": ".py",
   "mimetype": "text/x-python",
   "name": "python",
   "nbconvert_exporter": "python",
   "pygments_lexer": "ipython3",
   "version": "3.10.6"
  },
  "vscode": {
   "interpreter": {
    "hash": "b31bfab217b7bba0d27806e15e39a0b8f095aad566d769ceebb383dd6773a3d0"
   }
  }
 },
 "nbformat": 4,
 "nbformat_minor": 5
}
