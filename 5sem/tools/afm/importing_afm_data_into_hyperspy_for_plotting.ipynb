{
 "cells": [
  {
   "cell_type": "markdown",
   "id": "32e32c94-3a4e-4ecb-9444-c2672d59ad98",
   "metadata": {},
   "source": [
    "# Importing AFM data into HyperSpy for plotting"
   ]
  },
  {
   "cell_type": "code",
   "execution_count": 1,
   "id": "c7101b69-cf73-4446-b43b-03f8bc712d01",
   "metadata": {},
   "outputs": [],
   "source": [
    "%matplotlib qt5"
   ]
  },
  {
   "cell_type": "code",
   "execution_count": 2,
   "id": "bde79adc-5ad5-4c83-babc-e75c358c283e",
   "metadata": {},
   "outputs": [],
   "source": [
    "import numpy as np\n",
    "import hyperspy.api as hs"
   ]
  },
  {
   "cell_type": "markdown",
   "id": "6a008a15-9547-4830-afc7-acc00f531536",
   "metadata": {},
   "source": [
    "## Datafiles\n",
    "\n",
    "While Gwyddion is nice for processing the AFM data, it is nice to do the plotting using matplotlib. This notebook shows how to import `.xyz` files into a HyperSpy signal.\n",
    "\n",
    "Firstly:\n",
    "- Do the processing you want to do using Gwyddion\n",
    "- Then, select the data you want to save, by clicking the window with that image. In Gwyddion, go to `File`, `Save As`\n",
    "- Next, in the lower left in the \"Save File\" window, click \"File type\". Select \"XYZ text data (.xyz)\"\n",
    "- In the top part of the \"Save File\" window, change the \"Name\" to what you want to call the file + .xyz extension\n",
    "- Click \"Save\" (bottom right), this will open a new window (\"Export XYZ\").\n",
    "- Toggle \"Add informational comment header\", then click \"OK\" to save the file.\n",
    "\n",
    "Run the large cell below, this defines a python function for parsing the AFM data into a NumPy array, which is then used to make a HyperSpy signal."
   ]
  },
  {
   "cell_type": "code",
   "execution_count": null,
   "id": "52c939b7-012d-49ab-828a-d4dd5388e318",
   "metadata": {},
   "outputs": [],
   "source": [
    "def import_xyz_data(filename):\n",
    "    with open(filename) as f:\n",
    "        title = f.readline()[11:]\n",
    "        title = title.replace(\"\\n\", \"\")\n",
    "\n",
    "    xyz_data = np.loadtxt(filename, usecols=(0, 1, 2))\n",
    "\n",
    "    x_list = xyz_data[:, 0]\n",
    "    y_list = xyz_data[:, 1]\n",
    "    z_list = xyz_data[:, 2]\n",
    "\n",
    "    # To micrometer in xy-dimensions\n",
    "    x_list *= 1e6\n",
    "    y_list *= 1e6\n",
    "\n",
    "    # To nanometer in z-dimension\n",
    "    z_list *= 1e9\n",
    "\n",
    "    x_set_list = list(set(x_list))\n",
    "    y_set_list = list(set(y_list))\n",
    "    x_set_list.sort()\n",
    "    y_set_list.sort()\n",
    "\n",
    "    x_size = len(x_set_list)\n",
    "    y_size = len(y_set_list)\n",
    "\n",
    "    x_scale = (x_set_list[-1] - x_set_list[0]) / x_size\n",
    "    y_scale = (y_set_list[-1] - y_set_list[0]) / y_size\n",
    "\n",
    "    x_index_list = np.zeros_like(x_list).astype(np.uint16)\n",
    "    y_index_list = np.zeros_like(y_list).astype(np.uint16)\n",
    "\n",
    "    for nx, x in enumerate(x_list):\n",
    "        for ix, x_set in enumerate(x_set_list):\n",
    "            if x == x_set:\n",
    "                x_index_list[nx] = ix\n",
    "\n",
    "    for ny, y in enumerate(y_list):\n",
    "        for iy, y_set in enumerate(y_set_list):\n",
    "            if y == y_set:\n",
    "                y_index_list[ny] = iy\n",
    "\n",
    "    data_array = np.zeros((y_size, x_size), dtype=np.float32)\n",
    "    for ii in range(len(x_index_list)):\n",
    "        x_index = x_index_list[ii]\n",
    "        y_index = y_index_list[ii]\n",
    "        data_array[y_index, x_index] = z_list[ii]\n",
    "\n",
    "    s = hs.signals.Signal2D(data_array)\n",
    "    s.axes_manager[0].scale = x_scale\n",
    "    s.axes_manager[1].scale = x_scale\n",
    "    s.axes_manager[0].units = \"um\"\n",
    "    s.axes_manager[1].units = \"um\"\n",
    "    s.axes_manager[0].name = \"Probe x\"\n",
    "    s.axes_manager[1].name = \"Probe y\"\n",
    "    s.metadata.General.title = title\n",
    "\n",
    "    return s"
   ]
  },
  {
   "cell_type": "markdown",
   "id": "7560112c-8c96-481e-b161-45178c69b6b4",
   "metadata": {},
   "source": [
    "Then, run this function with the .xyz file as a parameter"
   ]
  },
  {
   "cell_type": "code",
   "execution_count": null,
   "id": "e4d11c11-9c60-4787-b19a-296f36216c37",
   "metadata": {},
   "outputs": [],
   "source": [
    "s = import_xyz_data(\"test.xyz\")"
   ]
  },
  {
   "cell_type": "code",
   "execution_count": null,
   "id": "08ca45cb-bf19-460b-85af-2554dd0a3b4f",
   "metadata": {},
   "outputs": [],
   "source": [
    "s.plot()"
   ]
  },
  {
   "cell_type": "markdown",
   "id": "c99a97f1-f596-424e-90f4-0c459784a8e3",
   "metadata": {},
   "source": [
    "## Getting line profiles"
   ]
  },
  {
   "cell_type": "code",
   "execution_count": null,
   "id": "0ebffaf7-37cc-4d83-96eb-98743a7f98d6",
   "metadata": {},
   "outputs": [],
   "source": [
    "def get_line_profile(s):\n",
    "    roi = hs.roi.Line2DROI(linewidth=0.5)\n",
    "    s.plot()\n",
    "    s_roi = roi.interactive(s)\n",
    "    s_roi.plot(autoscale=\"xyv\")\n",
    "    roi_span = hs.roi.SpanROI()\n",
    "    roi_span.interactive(s_roi)\n",
    "    return s_roi"
   ]
  },
  {
   "cell_type": "code",
   "execution_count": null,
   "id": "50ffaae1-b105-47a1-a3ce-da3e89f882b4",
   "metadata": {},
   "outputs": [],
   "source": [
    "s_line_profile = get_line_profile(s)"
   ]
  },
  {
   "cell_type": "code",
   "execution_count": null,
   "id": "7d42f149-0452-4c61-9b15-9a5d35f726bb",
   "metadata": {},
   "outputs": [],
   "source": [
    "s_line_profile.plot()"
   ]
  },
  {
   "cell_type": "markdown",
   "id": "6205977f-f55a-47a0-ad35-4c6da915ba0e",
   "metadata": {},
   "source": [
    "### Plotting the data\n",
    "\n",
    "Now, you can use the matplotlib library to visualize the results, just as the other computer exercises."
   ]
  }
 ],
 "metadata": {
  "kernelspec": {
   "display_name": "Python 3.10.6 64-bit",
   "language": "python",
   "name": "python3"
  },
  "language_info": {
   "codemirror_mode": {
    "name": "ipython",
    "version": 3
   },
   "file_extension": ".py",
   "mimetype": "text/x-python",
   "name": "python",
   "nbconvert_exporter": "python",
   "pygments_lexer": "ipython3",
   "version": "3.10.6"
  },
  "vscode": {
   "interpreter": {
    "hash": "b31bfab217b7bba0d27806e15e39a0b8f095aad566d769ceebb383dd6773a3d0"
   }
  }
 },
 "nbformat": 4,
 "nbformat_minor": 5
}
