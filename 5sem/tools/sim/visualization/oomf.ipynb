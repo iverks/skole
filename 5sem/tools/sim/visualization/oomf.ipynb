{
 "cells": [
  {
   "cell_type": "code",
   "execution_count": 72,
   "metadata": {},
   "outputs": [],
   "source": [
    "import discretisedfield as df\n",
    "import micromagneticmodel as mm\n",
    "\n",
    "import oommfc as oc\n",
    "import matplotlib.pyplot as plt\n",
    "import numpy as np\n",
    "\n",
    "from mpl_toolkits.axes_grid1.anchored_artists import AnchoredSizeBar\n",
    "import matplotlib.font_manager as fm\n",
    "import matplotlib.patheffects as patheffects\n",
    "%matplotlib qt5"
   ]
  },
  {
   "cell_type": "code",
   "execution_count": 24,
   "metadata": {},
   "outputs": [
    {
     "data": {
      "text/html": [
       "<strong>Mesh</strong>\n",
       "<ul>\n",
       "  <li><strong>Region</strong>\n",
       "<ul>\n",
       "  <li>p1 = (0.0, 0.0, 0.0)</li>\n",
       "  <li>p2 = (1.49504e-05, 1.49504e-05, 2e-08)</li>\n",
       "</ul></li>\n",
       "  <li>n = (2048, 2048, 2)</li>\n",
       "  <li>attributes:\n",
       "    <ul>\n",
       "      <li>unit: m</li>\n",
       "      <li>fourierspace: False</li>\n",
       "      <li>isplane: False</li>\n",
       "      </ul>\n",
       "  </li>\n",
       "</ul>"
      ],
      "text/plain": [
       "Mesh(Region(p1=(0.0, 0.0, 0.0), p2=(1.49504e-05, 1.49504e-05, 2e-08)), n=(2048, 2048, 2), attributes: (unit: m, fourierspace: False, isplane: False))"
      ]
     },
     "execution_count": 24,
     "metadata": {},
     "output_type": "execute_result"
    }
   ],
   "source": [
    "read_field = df.Field.fromfile(\"magnetization.ovf\")\n",
    "read_field.mesh"
   ]
  },
  {
   "cell_type": "code",
   "execution_count": 54,
   "metadata": {},
   "outputs": [
    {
     "data": {
      "text/html": [
       "<strong>Field</strong>\n",
       "<ul>\n",
       "  \n",
       "  <li><strong>Mesh</strong>\n",
       "<ul>\n",
       "  <li><strong>Region</strong>\n",
       "<ul>\n",
       "  <li>p1 = (5.8837999999999995e-06, 5.8837999999999995e-06, 0.0)</li>\n",
       "  <li>p2 = (7.197800000000001e-06, 7.197800000000001e-06, 2e-08)</li>\n",
       "</ul></li>\n",
       "  <li>n = (180, 180, 2)</li>\n",
       "  <li>attributes:\n",
       "    <ul>\n",
       "      <li>unit: m</li>\n",
       "      <li>fourierspace: False</li>\n",
       "      <li>isplane: False</li>\n",
       "      </ul>\n",
       "  </li>\n",
       "</ul></li>\n",
       "  <li>dim = 3</li>\n",
       "  <li>components:\n",
       "      <ul><li>x</li>\n",
       "        <li>y</li>\n",
       "        <li>z</li>\n",
       "        </ul>\n",
       "    </li>\n",
       "  <li>units = 1</li>\n",
       "  </ul>"
      ],
      "text/plain": [
       "Field(Mesh(Region(p1=(5.8837999999999995e-06, 5.8837999999999995e-06, 0.0), p2=(7.197800000000001e-06, 7.197800000000001e-06, 2e-08)), n=(180, 180, 2), attributes: (unit: m, fourierspace: False, isplane: False)), dim=3, components: (x, y, z), units=1)"
      ]
     },
     "execution_count": 54,
     "metadata": {},
     "output_type": "execute_result"
    }
   ],
   "source": [
    "zlims = (read_field.mesh.region.p1[2], read_field.mesh.region.p2[2])\n",
    "magnet_w = (\n",
    "    read_field.mesh.region.p2[0] - read_field.mesh.region.p1[0]\n",
    ") / 8  # assumes symmetric\n",
    "magnet_x = 3\n",
    "magnet_y = 3\n",
    "rm_margin = 0.15 * magnet_w\n",
    "subregion = df.Region(\n",
    "    p1=(magnet_w * magnet_x + rm_margin, magnet_w * magnet_y + rm_margin, zlims[0]),\n",
    "    p2=(magnet_w * (magnet_x + 1) - rm_margin, magnet_w * (magnet_y + 1) - rm_margin, zlims[1]),\n",
    ")\n",
    "\n",
    "submesh = df.Mesh(region=subregion, cell=(1, 1, 1))"
   ]
  },
  {
   "cell_type": "code",
   "execution_count": 56,
   "metadata": {},
   "outputs": [],
   "source": [
    "zlims = (read_field.mesh.region.p1[2], read_field.mesh.region.p2[2])\n",
    "magnet_w = (\n",
    "    read_field.mesh.region.p2[0] - read_field.mesh.region.p1[0]\n",
    ") / 8  # assumes symmetric\n",
    "magnet_x = 3\n",
    "magnet_y = 3\n",
    "rm_margin = 0.15 * magnet_w\n",
    "subregion = df.Region(\n",
    "    p1=(magnet_w * magnet_x + rm_margin, magnet_w * magnet_y + rm_margin, zlims[0]),\n",
    "    p2=(magnet_w * (magnet_x + 1) - rm_margin, magnet_w * (magnet_y + 1) - rm_margin, zlims[1]),\n",
    ")\n",
    "\n",
    "submesh = df.Mesh(region=subregion, cell=(1, 1, 1))\n",
    "fig, ax = plt.subplots()\n",
    "read_field[subregion].plane(\"z\", n=(70, 70)).mpl(\n",
    "    ax=ax,\n",
    "    multiplier=1e-6,\n",
    "    vector_kw={\n",
    "        \"colorbar_label\": \"z-component of magnetic vector\",\n",
    "        \"scale\": 50,\n",
    "    },\n",
    "    scalar_kw={\n",
    "        \"clim\": (-0.2, 0.2)\n",
    "    }\n",
    ")\n",
    "ax.axis(\"off\")\n",
    "plt.show()"
   ]
  },
  {
   "cell_type": "code",
   "execution_count": 103,
   "metadata": {},
   "outputs": [],
   "source": [
    "def add_scalebar(ax: plt.Axes): \n",
    "    scalebar_kwargs = {'size': 0.5, 'label': '500nm', 'loc': 8, 'frameon': False, 'color': 'black', 'size_vertical': 0.02, 'label_top': False, 'fontproperties': fm.FontProperties(size=18)}\n",
    "    scalebar = AnchoredSizeBar(transform=ax.transData, **scalebar_kwargs)\n",
    "    # Denne legger til et svart omriss rundt scalebar teksten, for å gjøre den lettere å lese\n",
    "    scalebar.txt_label._text.set_path_effects([patheffects.withStroke(linewidth=2, foreground='black', capstyle=\"round\")])\n",
    "    ax.add_artist(scalebar)"
   ]
  },
  {
   "cell_type": "code",
   "execution_count": 106,
   "metadata": {},
   "outputs": [],
   "source": [
    "zlims = (read_field.mesh.region.p1[2], read_field.mesh.region.p2[2])\n",
    "magnet_w = (\n",
    "    read_field.mesh.region.p2[0] - read_field.mesh.region.p1[0]\n",
    ") / 8  # assumes symmetric\n",
    "magnet_x = 6\n",
    "magnet_y = 6\n",
    "rm_margin = 0.15 * magnet_w\n",
    "subregion = df.Region(\n",
    "    p1=(magnet_w * magnet_x + rm_margin, magnet_w * magnet_y + rm_margin, zlims[0]),\n",
    "    p2=(magnet_w * (magnet_x + 1) - rm_margin, magnet_w * (magnet_y + 1) - rm_margin, zlims[1]),\n",
    ")\n",
    "\n",
    "submesh = df.Mesh(region=subregion, cell=(1, 1, 1))\n",
    "fig, ax = plt.subplots()\n",
    "read_field[subregion].plane(\"z\").mpl.lightness(\n",
    "    ax=ax, cmap=\"turbo\", lightness_field=read_field[subregion].z, colorwheel_args={\"loc\": 1}\n",
    ")\n",
    "read_field[subregion].plane(z=10e-9, n=(30, 30)).mpl.vector(\n",
    "    ax=ax, scale=30, colorbar=False, use_color=False\n",
    ")\n",
    "\n",
    "add_scalebar(ax)\n",
    "ax.axis(\"off\")\n",
    "fig.savefig(\"single_horseshoe_sim.png\", bbox_inches=\"tight\", pad_inches=0)\n"
   ]
  }
 ],
 "metadata": {
  "kernelspec": {
   "display_name": "Python 3.10.6 64-bit",
   "language": "python",
   "name": "python3"
  },
  "language_info": {
   "codemirror_mode": {
    "name": "ipython",
    "version": 3
   },
   "file_extension": ".py",
   "mimetype": "text/x-python",
   "name": "python",
   "nbconvert_exporter": "python",
   "pygments_lexer": "ipython3",
   "version": "3.10.6"
  },
  "orig_nbformat": 4,
  "vscode": {
   "interpreter": {
    "hash": "b31bfab217b7bba0d27806e15e39a0b8f095aad566d769ceebb383dd6773a3d0"
   }
  }
 },
 "nbformat": 4,
 "nbformat_minor": 2
}
