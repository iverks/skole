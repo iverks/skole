{
 "cells": [
  {
   "cell_type": "code",
   "execution_count": 1,
   "id": "3b0361bf-9671-4e08-998d-6042a535cc49",
   "metadata": {},
   "outputs": [],
   "source": [
    "import matplotlib.pyplot as plt\n",
    "import hyperspy.api as hs \n",
    "import numpy as np\n",
    "import matplotlib.image as mpimg\n",
    "import scipy.ndimage as ndim\n",
    "\n",
    "%matplotlib qt5"
   ]
  },
  {
   "cell_type": "code",
   "execution_count": 2,
   "id": "6fac07a0-41dd-47b7-92d6-0cd7e490001a",
   "metadata": {},
   "outputs": [
    {
     "name": "stderr",
     "output_type": "stream",
     "text": [
      "WARNING:silx.opencl.common:Unable to import pyOpenCl. Please install it from: https://pypi.org/project/pyopencl\n"
     ]
    }
   ],
   "source": [
    "# spook = hs.load(\"example_data/stem_dpc_data.zspy\", lazy=True)\n",
    "s = hs.load(\"our_data/LMSTEM_256x256pix_15x15step_2msExpTime_250msFlyback_regular.zspy\", lazy=True)"
   ]
  },
  {
   "cell_type": "code",
   "execution_count": 3,
   "id": "0d309bf1-eb2d-47a0-8d2d-2f5e2efc562c",
   "metadata": {},
   "outputs": [
    {
     "name": "stdout",
     "output_type": "stream",
     "text": [
      "[########################################] | 100% Completed | 12.37 s\n"
     ]
    },
    {
     "data": {
      "text/plain": [
       "<ElectronDiffraction2D, title: , dimensions: (|256, 256)>"
      ]
     },
     "execution_count": 3,
     "metadata": {},
     "output_type": "execute_result"
    }
   ],
   "source": [
    "s_sum = s.sum(axis=(-1, -2))\n",
    "s_nav = s_sum.transpose()\n",
    "s_nav.compute()\n",
    "s.navigator = s_nav\n",
    "s_nav"
   ]
  },
  {
   "cell_type": "code",
   "execution_count": 14,
   "id": "c8bf6471",
   "metadata": {},
   "outputs": [],
   "source": [
    "# s_nav.plot()"
   ]
  },
  {
   "cell_type": "code",
   "execution_count": 5,
   "id": "7da0359c-01df-44c3-9352-edc3e62c9941",
   "metadata": {},
   "outputs": [
    {
     "name": "stdout",
     "output_type": "stream",
     "text": [
      "[########################################] | 100% Completed | 3.08 sms\n"
     ]
    }
   ],
   "source": [
    "# cx, cy = (122, 116) # Eksempeldata\n",
    "cx, cy = (120, 127) # bilde av regulaer\n",
    "smigel = s.isig[cx-50:cx+50, cy-50:cy+50]\n",
    "smigel.navigator = s_nav\n",
    "smigel.compute()"
   ]
  },
  {
   "cell_type": "code",
   "execution_count": 49,
   "id": "3327b6a5-2694-4858-a9e5-55868105e168",
   "metadata": {},
   "outputs": [],
   "source": [
    "smigel.T.plot()"
   ]
  },
  {
   "cell_type": "markdown",
   "id": "d7a23ae6-9565-4aca-882b-288177485432",
   "metadata": {},
   "source": [
    "## Mer avansert analyse\n",
    "\n",
    "En litt mer avansert måte å analysere dette, er å bruk `center_of_mass` funksjonen i `s1`. Lagre dette som `s1_com`. Dette regner ut hvor senter-posisjonen er for alle probe-posisjonene."
   ]
  },
  {
   "cell_type": "code",
   "execution_count": 6,
   "id": "a4a23fc7-dff8-4b96-893e-108f1a0d07e4",
   "metadata": {},
   "outputs": [
    {
     "name": "stdout",
     "output_type": "stream",
     "text": [
      "[########################################] | 100% Completed | 6.61 sms\n"
     ]
    }
   ],
   "source": [
    "com = smigel.center_of_mass()\n",
    "coomer = com.correct_ramp()"
   ]
  },
  {
   "cell_type": "code",
   "execution_count": 10,
   "id": "b8ac661d",
   "metadata": {},
   "outputs": [],
   "source": [
    "# Blur\n",
    "coomer_blur = coomer.gaussian_blur(1.2)\n",
    "coomer_blur.get_color_signal(autolim_sigma=4).plot()"
   ]
  },
  {
   "cell_type": "markdown",
   "id": "20b76230-3057-461d-bbc3-29449d8956de",
   "metadata": {},
   "source": [
    "Så plot `s1_com_corr`, ved å bruke `get_color_signal().plot()`."
   ]
  },
  {
   "cell_type": "code",
   "execution_count": 56,
   "id": "53c6963c-ef79-4315-9835-4c32fb54d91f",
   "metadata": {},
   "outputs": [],
   "source": [
    "coomer.get_color_signal().plot()"
   ]
  },
  {
   "cell_type": "code",
   "execution_count": 169,
   "id": "3ca66f2a",
   "metadata": {},
   "outputs": [
    {
     "name": "stdout",
     "output_type": "stream",
     "text": [
      "<DPCSignal2D, title: , dimensions: (2|256, 256)>\n"
     ]
    }
   ],
   "source": [
    "print(coomer)"
   ]
  },
  {
   "cell_type": "code",
   "execution_count": 7,
   "id": "9e74edcb",
   "metadata": {},
   "outputs": [],
   "source": [
    "mask = mpimg.imread(\"hestesko_regulaer.png\")\n",
    "mask = mask[:, :, 0]\n",
    "mask = np.array(mask, dtype=bool)\n",
    "# mask = np.logical_not(mask)"
   ]
  },
  {
   "cell_type": "code",
   "execution_count": 114,
   "id": "6ec1f996",
   "metadata": {},
   "outputs": [],
   "source": [
    "plt.imshow(mask, cmap=\"binary\")\n",
    "plt.show()"
   ]
  },
  {
   "cell_type": "code",
   "execution_count": 175,
   "id": "2af547f9",
   "metadata": {},
   "outputs": [],
   "source": [
    "fig, ax = plt.subplots()\n",
    "mcp = mask.copy()\n",
    "mcp = ndim.rotate(mcp, -45, order=0)\n",
    "ax.imshow(mcp, cmap=\"binary\")\n",
    "fig.show()"
   ]
  },
  {
   "cell_type": "code",
   "execution_count": 8,
   "id": "8dbcb31a",
   "metadata": {},
   "outputs": [],
   "source": [
    "masked = coomer.deepcopy()\n",
    "mcp = mask.copy()\n",
    "fromx = 940\n",
    "fromy = 900\n",
    "rotation = 130\n",
    "zoom = 0.944\n",
    "masky = ndim.rotate(mcp, rotation, order=0)\n",
    "masky = ndim.zoom(masky, zoom, order=0)\n",
    "masky = masky[fromx:fromx+256*4:4, fromy:fromy+256*4:4]\n",
    "masked.data[:, masky] *= 0.0\n",
    "# masked.get_color_signal().plot()"
   ]
  },
  {
   "cell_type": "code",
   "execution_count": 268,
   "id": "714e0d50",
   "metadata": {},
   "outputs": [
    {
     "data": {
      "application/vnd.jupyter.widget-view+json": {
       "model_id": "5066b4a2320d4ebe95a5530ac685a15f",
       "version_major": 2,
       "version_minor": 0
      },
      "text/plain": [
       "VBox(children=(HBox(children=(FloatText(value=0.0, description='New length'), Label(value='um', layout=Layout(…"
      ]
     },
     "metadata": {},
     "output_type": "display_data"
    }
   ],
   "source": [
    "# masked.calibrate()\n",
    "# coomer.calibrate()"
   ]
  },
  {
   "cell_type": "markdown",
   "id": "0259896e-bd24-4f74-8f19-8886e0cfe389",
   "metadata": {
    "tags": []
   },
   "source": [
    "## Plotting av disse dataene\n",
    "\n",
    "Nå kan dette kombineres med kunnskapen og koden dere brukte i TEM-bildedata notebooken, og FIB notebooken, til å lage en figur som ligner på den i starten av denne Jupyter Notebooken.\n",
    "\n",
    "For å få disse fargeplottene i en matplotlib-figur, så først lag en `fig` og en `ax` via matplotlib.\n",
    "\n",
    "Så bruk `get_color_image_with_indicator` i `s1_com_corr` med `ax=ax`."
   ]
  },
  {
   "cell_type": "code",
   "execution_count": 9,
   "id": "07f515c4",
   "metadata": {},
   "outputs": [],
   "source": [
    "from mpl_toolkits.axes_grid1.anchored_artists import AnchoredSizeBar\n",
    "import matplotlib.font_manager as fm\n",
    "import matplotlib.patheffects as patheffects\n",
    "\n",
    "fontprops = fm.FontProperties(size=18)\n",
    "\n",
    "scalebar_kwargs = {'size': 2, 'label': '2 $\\mathrm{\\mu}$m', 'loc': 4, 'frameon': False, 'color': 'white', 'size_vertical': 0.2, 'label_top': False, 'fontproperties': fontprops}\n",
    "nice_effect = [patheffects.withStroke(linewidth=2, foreground='black', capstyle=\"round\")]\n",
    "\n",
    "def add_scalebar(ax: plt.Axes): \n",
    "    scalebar = AnchoredSizeBar(transform=ax.transData, **scalebar_kwargs)\n",
    "    # Denne legger til et svart omriss rundt scalebar teksten, for å gjøre den lettere å lese\n",
    "    scalebar.txt_label._text.set_path_effects(nice_effect)\n",
    "    ax.add_artist(scalebar)"
   ]
  },
  {
   "cell_type": "code",
   "execution_count": 11,
   "id": "eba5a1e2-d718-4493-a997-5060aebcc2c4",
   "metadata": {},
   "outputs": [],
   "source": [
    "fig, (ax, ax2) = plt.subplots(1, 2)\n",
    "inpush = ax.inset_axes([0.83, 0.83, 0.15, 0.15])\n",
    "inpush2 = ax2.inset_axes([0.83, 0.83, 0.15, 0.15])\n",
    "coomer.get_color_image_with_indicator(ax=ax, ax_indicator=inpush, autolim_sigma=2, indicator_rotation=90)\n",
    "masked.get_color_image_with_indicator(ax=ax2, ax_indicator=inpush2, indicator_rotation=90)\n",
    "ax.axis(\"off\")\n",
    "ax2.axis(\"off\")\n",
    "add_scalebar(ax)\n",
    "add_scalebar(ax2)\n",
    "ax.annotate(\"a\",xy=(0.05, 0.90), xycoords=\"axes fraction\",fontsize=20, color=\"w\", path_effects=nice_effect)\n",
    "ax2.annotate(\"b\",xy=(0.05, 0.90), xycoords=\"axes fraction\",fontsize=20, color=\"w\", path_effects=nice_effect)\n",
    "fig.tight_layout()\n",
    "fig.show()"
   ]
  },
  {
   "cell_type": "markdown",
   "id": "0091f249-4c28-42ee-b816-3e757f60821d",
   "metadata": {},
   "source": [
    "Tips: posisjonen til fargehjulet kan styres med `ax_indicator` parameteren, se docstringen for mer informasjon."
   ]
  },
  {
   "cell_type": "code",
   "execution_count": 12,
   "id": "ff6dba47-20b7-4353-bbdc-eca9292123af",
   "metadata": {},
   "outputs": [],
   "source": [
    "fig.savefig(\"dpc_regulaer.png\", dpi=300, bbox_inches=\"tight\", pad_inches=0, transparent=True)"
   ]
  }
 ],
 "metadata": {
  "kernelspec": {
   "display_name": "Python 3.10.6 64-bit",
   "language": "python",
   "name": "python3"
  },
  "language_info": {
   "codemirror_mode": {
    "name": "ipython",
    "version": 3
   },
   "file_extension": ".py",
   "mimetype": "text/x-python",
   "name": "python",
   "nbconvert_exporter": "python",
   "pygments_lexer": "ipython3",
   "version": "3.10.6"
  },
  "vscode": {
   "interpreter": {
    "hash": "b31bfab217b7bba0d27806e15e39a0b8f095aad566d769ceebb383dd6773a3d0"
   }
  }
 },
 "nbformat": 4,
 "nbformat_minor": 5
}
