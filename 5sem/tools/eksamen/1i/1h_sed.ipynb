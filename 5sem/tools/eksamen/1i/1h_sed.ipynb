{
 "cells": [
  {
   "cell_type": "code",
   "execution_count": 1,
   "metadata": {},
   "outputs": [],
   "source": [
    "import numpy as np\n",
    "import matplotlib.pyplot as plt\n",
    "import hyperspy.api as hs\n",
    "\n",
    "%matplotlib qt5"
   ]
  },
  {
   "cell_type": "code",
   "execution_count": 4,
   "metadata": {},
   "outputs": [],
   "source": [
    "s = hs.load(\"../datasett/scanning_electron_diffraction_1.hspy\")\n",
    "s2 = hs.load(\"../datasett/scanning_electron_diffraction_2.hspy\")"
   ]
  },
  {
   "cell_type": "code",
   "execution_count": 5,
   "metadata": {},
   "outputs": [],
   "source": [
    "s.plot(norm=\"symlog\")"
   ]
  },
  {
   "cell_type": "code",
   "execution_count": 6,
   "metadata": {},
   "outputs": [],
   "source": [
    "s2.plot(norm=\"symlog\")"
   ]
  },
  {
   "cell_type": "markdown",
   "metadata": {},
   "source": [
    "# Pent"
   ]
  },
  {
   "cell_type": "code",
   "execution_count": 7,
   "metadata": {},
   "outputs": [],
   "source": [
    "from mpl_toolkits.axes_grid1.anchored_artists import AnchoredSizeBar\n",
    "import matplotlib.font_manager as fm\n",
    "import matplotlib.patheffects as patheffects\n",
    "fontprops = fm.FontProperties(size=18)\n",
    "\n",
    "scalebar_kwargs = {'size': 5, 'label': '5 $\\mathrm{\\mu}$m', 'loc': 4, 'frameon': False, 'color': 'white', 'size_vertical': 0.2, 'label_top': False, 'fontproperties': fontprops}\n",
    "nice_effect = [patheffects.withStroke(linewidth=2, foreground='black', capstyle=\"round\")]\n",
    "\n",
    "def add_scalebar(ax: plt.Axes): \n",
    "    scalebar = AnchoredSizeBar(transform=ax.transData, **scalebar_kwargs)\n",
    "    # Denne legger til et svart omriss rundt scalebar teksten, for å gjøre den lettere å lese\n",
    "    scalebar.txt_label._text.set_path_effects(nice_effect)\n",
    "    ax.add_artist(scalebar)"
   ]
  },
  {
   "cell_type": "code",
   "execution_count": 8,
   "metadata": {},
   "outputs": [],
   "source": [
    "import matplotlib.colors as colors\n",
    "norm = colors.SymLogNorm(1, vmin=1, vmax=s.inav[0].data.max())"
   ]
  },
  {
   "cell_type": "code",
   "execution_count": 16,
   "metadata": {},
   "outputs": [],
   "source": [
    "p1, p2, p3 = 10, 36, 55\n",
    "\n",
    "fig, axdict = plt.subplot_mosaic(\n",
    "    [\n",
    "        [\"left\", \"left\", \"top_right\"],\n",
    "        [\"left\", \"left\", \"mid_right\"],\n",
    "        [\"left\", \"left\", \"bot_right\"],\n",
    "    ]\n",
    ")\n",
    "for label, ax in axdict.items():\n",
    "    if label == \"left\":\n",
    "        ax.set_ylabel(\"intensity\")\n",
    "        ax.set_xlabel(\"position\")\n",
    "    else:\n",
    "        ax.set_xticks([])\n",
    "        ax.set_yticks([])\n",
    "        ax.patch.set_linewidth(4)\n",
    "        pass\n",
    "\n",
    "axdict[\"top_right\"].patch.set_edgecolor(\"red\")\n",
    "axdict[\"mid_right\"].patch.set_edgecolor(\"blue\")\n",
    "axdict[\"bot_right\"].patch.set_edgecolor(\"limegreen\")\n",
    "\n",
    "axdict[\"left\"].plot(s.T.sum())\n",
    "axdict[\"top_right\"].imshow(s.inav[p1], norm=norm)\n",
    "axdict[\"mid_right\"].imshow(s.inav[p2], norm=norm)\n",
    "axdict[\"bot_right\"].imshow(s.inav[p3], norm=norm)\n",
    "\n",
    "axdict[\"left\"].axvline(p1, color=\"red\")\n",
    "axdict[\"left\"].axvline(p2, color=\"blue\")\n",
    "axdict[\"left\"].axvline(p3, color=\"limegreen\")\n",
    "\n",
    "axdict[\"top_right\"].annotate(\"a\", xy=(0.05, 0.85), xycoords=\"axes fraction\", color=\"white\", fontsize=18)\n",
    "axdict[\"mid_right\"].annotate(\"b\", xy=(0.05, 0.85), xycoords=\"axes fraction\", color=\"white\", fontsize=18)\n",
    "axdict[\"bot_right\"].annotate(\"c\", xy=(0.05, 0.85), xycoords=\"axes fraction\", color=\"white\", fontsize=18)\n",
    "\n",
    "axdict[\"left\"].annotate(\"a\", xy=(p1/len(s.inav[:]), 0.2), xycoords=\"axes fraction\", fontsize=18, color=\"red\")\n",
    "axdict[\"left\"].annotate(\"b\", xy=(p2/len(s.inav[:]), 0.2), xycoords=\"axes fraction\", fontsize=18, color=\"blue\")\n",
    "axdict[\"left\"].annotate(\"c\", xy=(p3/len(s.inav[:]), 0.2), xycoords=\"axes fraction\", fontsize=18, color=\"limegreen\")\n",
    "\n",
    "fig.tight_layout(pad=0.5)\n",
    "fig.savefig(\"sed_1\", dpi=300, pad_inches=0.1, bbox_inches=\"tight\")"
   ]
  },
  {
   "cell_type": "code",
   "execution_count": 15,
   "metadata": {},
   "outputs": [],
   "source": [
    "p1, p2, p3 = 10, 36, 55\n",
    "\n",
    "fig, axdict = plt.subplot_mosaic(\n",
    "    [\n",
    "        [\"left\", \"left\", \"top_right\"],\n",
    "        [\"left\", \"left\", \"mid_right\"],\n",
    "        [\"left\", \"left\", \"bot_right\"],\n",
    "    ]\n",
    ")\n",
    "for label, ax in axdict.items():\n",
    "    if label == \"left\":\n",
    "        ax.set_ylabel(\"intensity\")\n",
    "        ax.set_xlabel(\"position\")\n",
    "    else:\n",
    "        ax.set_xticks([])\n",
    "        ax.set_yticks([])\n",
    "        ax.patch.set_linewidth(4)\n",
    "        pass\n",
    "\n",
    "axdict[\"top_right\"].patch.set_edgecolor(\"red\")\n",
    "axdict[\"mid_right\"].patch.set_edgecolor(\"blue\")\n",
    "axdict[\"bot_right\"].patch.set_edgecolor(\"limegreen\")\n",
    "\n",
    "axdict[\"left\"].plot(s2.T.sum())\n",
    "axdict[\"top_right\"].imshow(s2.inav[p1], norm=norm)\n",
    "axdict[\"mid_right\"].imshow(s2.inav[p2], norm=norm)\n",
    "axdict[\"bot_right\"].imshow(s2.inav[p3], norm=norm)\n",
    "\n",
    "axdict[\"left\"].axvline(p1, color=\"red\")\n",
    "axdict[\"left\"].axvline(p2, color=\"blue\")\n",
    "axdict[\"left\"].axvline(p3, color=\"limegreen\")\n",
    "\n",
    "axdict[\"top_right\"].annotate(\"a\", xy=(0.05, 0.85), xycoords=\"axes fraction\", color=\"white\", fontsize=18)\n",
    "axdict[\"mid_right\"].annotate(\"b\", xy=(0.05, 0.85), xycoords=\"axes fraction\", color=\"white\", fontsize=18)\n",
    "axdict[\"bot_right\"].annotate(\"c\", xy=(0.05, 0.85), xycoords=\"axes fraction\", color=\"white\", fontsize=18)\n",
    "\n",
    "axdict[\"left\"].annotate(\"a\", xy=(p1/len(s2.inav[:]), 0.2), xycoords=\"axes fraction\", fontsize=18, color=\"red\")\n",
    "axdict[\"left\"].annotate(\"b\", xy=(p2/len(s2.inav[:]), 0.2), xycoords=\"axes fraction\", fontsize=18, color=\"blue\")\n",
    "axdict[\"left\"].annotate(\"c\", xy=(p3/len(s2.inav[:]), 0.2), xycoords=\"axes fraction\", fontsize=18, color=\"limegreen\")\n",
    "\n",
    "fig.tight_layout(pad=0.5)\n",
    "fig.savefig(\"sed_2\", dpi=300, pad_inches=0.1, bbox_inches=\"tight\")"
   ]
  },
  {
   "cell_type": "code",
   "execution_count": null,
   "metadata": {},
   "outputs": [],
   "source": []
  }
 ],
 "metadata": {
  "kernelspec": {
   "display_name": "Python 3.10.6 64-bit",
   "language": "python",
   "name": "python3"
  },
  "language_info": {
   "codemirror_mode": {
    "name": "ipython",
    "version": 3
   },
   "file_extension": ".py",
   "mimetype": "text/x-python",
   "name": "python",
   "nbconvert_exporter": "python",
   "pygments_lexer": "ipython3",
   "version": "3.10.6"
  },
  "orig_nbformat": 4,
  "vscode": {
   "interpreter": {
    "hash": "b31bfab217b7bba0d27806e15e39a0b8f095aad566d769ceebb383dd6773a3d0"
   }
  }
 },
 "nbformat": 4,
 "nbformat_minor": 2
}
