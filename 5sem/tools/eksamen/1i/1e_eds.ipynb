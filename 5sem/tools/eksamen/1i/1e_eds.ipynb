{
 "cells": [
  {
   "cell_type": "code",
   "execution_count": 1,
   "metadata": {},
   "outputs": [],
   "source": [
    "import numpy as np\n",
    "import matplotlib.pyplot as plt\n",
    "import hyperspy.api as hs\n",
    "\n",
    "%matplotlib qt5"
   ]
  },
  {
   "cell_type": "code",
   "execution_count": 2,
   "metadata": {},
   "outputs": [
    {
     "data": {
      "text/plain": [
       "<EDSSEMSpectrum, title: SEM-EDS linescan, dimensions: (49|1500)>"
      ]
     },
     "execution_count": 2,
     "metadata": {},
     "output_type": "execute_result"
    }
   ],
   "source": [
    "s = hs.load(\"datasett/eds_linescan_data_1.hspy\")\n",
    "s2 = hs.load(\"datasett/eds_linescan_data_2.hspy\")\n",
    "s"
   ]
  },
  {
   "cell_type": "code",
   "execution_count": 3,
   "metadata": {},
   "outputs": [
    {
     "data": {
      "text/html": [
       "<ul style=\"margin: 0px; list-style-position: outside;\">\n",
       "                    <details open>\n",
       "                    <summary style=\"display: list-item;\">\n",
       "                    <li style=\"display: inline;\">\n",
       "                    Acquisition_instrument\n",
       "                    </li></summary>\n",
       "                    <ul style=\"margin: 0px; list-style-position: outside;\">\n",
       "                    <details closed>\n",
       "                    <summary style=\"display: list-item;\">\n",
       "                    <li style=\"display: inline;\">\n",
       "                    SEM\n",
       "                    </li></summary>\n",
       "                    <ul style=\"margin: 0px; list-style-position: outside;\">\n",
       "                    <details closed>\n",
       "                    <summary style=\"display: list-item;\">\n",
       "                    <li style=\"display: inline;\">\n",
       "                    Detector\n",
       "                    </li></summary>\n",
       "                    <ul style=\"margin: 0px; list-style-position: outside;\">\n",
       "                    <details closed>\n",
       "                    <summary style=\"display: list-item;\">\n",
       "                    <li style=\"display: inline;\">\n",
       "                    EDS\n",
       "                    </li></summary>\n",
       "                    \n",
       "    <ul style=\"margin: 0px; list-style-position: outside;\">\n",
       "    <li style='margin-left:1em; padding-left: 0.5em'>azimuth_angle = 0.0</li></ul>\n",
       "    \n",
       "    <ul style=\"margin: 0px; list-style-position: outside;\">\n",
       "    <li style='margin-left:1em; padding-left: 0.5em'>elevation_angle = 35.0</li></ul>\n",
       "    \n",
       "    <ul style=\"margin: 0px; list-style-position: outside;\">\n",
       "    <li style='margin-left:1em; padding-left: 0.5em'>energy_resolution_MnKa = 130.0</li></ul>\n",
       "    </details></ul></details></ul><ul style=\"margin: 0px; list-style-position: outside;\">\n",
       "                    <details closed>\n",
       "                    <summary style=\"display: list-item;\">\n",
       "                    <li style=\"display: inline;\">\n",
       "                    Stage\n",
       "                    </li></summary>\n",
       "                    \n",
       "    <ul style=\"margin: 0px; list-style-position: outside;\">\n",
       "    <li style='margin-left:1em; padding-left: 0.5em'>tilt_alpha = 0.0</li></ul>\n",
       "    </details></ul></details></ul></details></ul><ul style=\"margin: 0px; list-style-position: outside;\">\n",
       "                    <details open>\n",
       "                    <summary style=\"display: list-item;\">\n",
       "                    <li style=\"display: inline;\">\n",
       "                    General\n",
       "                    </li></summary>\n",
       "                    <ul style=\"margin: 0px; list-style-position: outside;\">\n",
       "                    <details closed>\n",
       "                    <summary style=\"display: list-item;\">\n",
       "                    <li style=\"display: inline;\">\n",
       "                    FileIO\n",
       "                    </li></summary>\n",
       "                    <ul style=\"margin: 0px; list-style-position: outside;\">\n",
       "                    <details closed>\n",
       "                    <summary style=\"display: list-item;\">\n",
       "                    <li style=\"display: inline;\">\n",
       "                    0\n",
       "                    </li></summary>\n",
       "                    \n",
       "    <ul style=\"margin: 0px; list-style-position: outside;\">\n",
       "    <li style='margin-left:1em; padding-left: 0.5em'>hyperspy_version = 1.7.3</li></ul>\n",
       "    \n",
       "    <ul style=\"margin: 0px; list-style-position: outside;\">\n",
       "    <li style='margin-left:1em; padding-left: 0.5em'>io_plugin = hyperspy.io_plugins.hspy</li></ul>\n",
       "    \n",
       "    <ul style=\"margin: 0px; list-style-position: outside;\">\n",
       "    <li style='margin-left:1em; padding-left: 0.5em'>operation = save</li></ul>\n",
       "    \n",
       "    <ul style=\"margin: 0px; list-style-position: outside;\">\n",
       "    <li style='margin-left:1em; padding-left: 0.5em'>timestamp = 2022-11-25T18:42:24.619150+01:00</li></ul>\n",
       "    </details></ul><ul style=\"margin: 0px; list-style-position: outside;\">\n",
       "                    <details closed>\n",
       "                    <summary style=\"display: list-item;\">\n",
       "                    <li style=\"display: inline;\">\n",
       "                    1\n",
       "                    </li></summary>\n",
       "                    \n",
       "    <ul style=\"margin: 0px; list-style-position: outside;\">\n",
       "    <li style='margin-left:1em; padding-left: 0.5em'>hyperspy_version = 1.7.2</li></ul>\n",
       "    \n",
       "    <ul style=\"margin: 0px; list-style-position: outside;\">\n",
       "    <li style='margin-left:1em; padding-left: 0.5em'>io_plugin = hyperspy.io_plugins.hspy</li></ul>\n",
       "    \n",
       "    <ul style=\"margin: 0px; list-style-position: outside;\">\n",
       "    <li style='margin-left:1em; padding-left: 0.5em'>operation = load</li></ul>\n",
       "    \n",
       "    <ul style=\"margin: 0px; list-style-position: outside;\">\n",
       "    <li style='margin-left:1em; padding-left: 0.5em'>timestamp = 2022-11-28T12:01:00.742175+01:00</li></ul>\n",
       "    </details></ul></details></ul>\n",
       "    <ul style=\"margin: 0px; list-style-position: outside;\">\n",
       "    <li style='margin-left:1em; padding-left: 0.5em'>title = SEM-EDS linescan</li></ul>\n",
       "    </details></ul><ul style=\"margin: 0px; list-style-position: outside;\">\n",
       "                    <details open>\n",
       "                    <summary style=\"display: list-item;\">\n",
       "                    <li style=\"display: inline;\">\n",
       "                    Signal\n",
       "                    </li></summary>\n",
       "                    \n",
       "    <ul style=\"margin: 0px; list-style-position: outside;\">\n",
       "    <li style='margin-left:1em; padding-left: 0.5em'>signal_type = EDS_SEM</li></ul>\n",
       "    </details></ul>"
      ],
      "text/plain": [
       "├── Acquisition_instrument\n",
       "│   └── SEM\n",
       "│       ├── Detector\n",
       "│       │   └── EDS\n",
       "│       │       ├── azimuth_angle = 0.0\n",
       "│       │       ├── elevation_angle = 35.0\n",
       "│       │       └── energy_resolution_MnKa = 130.0\n",
       "│       └── Stage\n",
       "│           └── tilt_alpha = 0.0\n",
       "├── General\n",
       "│   ├── FileIO\n",
       "│   │   ├── 0\n",
       "│   │   │   ├── hyperspy_version = 1.7.3\n",
       "│   │   │   ├── io_plugin = hyperspy.io_plugins.hspy\n",
       "│   │   │   ├── operation = save\n",
       "│   │   │   └── timestamp = 2022-11-25T18:42:24.619150+01:00\n",
       "│   │   └── 1\n",
       "│   │       ├── hyperspy_version = 1.7.2\n",
       "│   │       ├── io_plugin = hyperspy.io_plugins.hspy\n",
       "│   │       ├── operation = load\n",
       "│   │       └── timestamp = 2022-11-28T12:01:00.742175+01:00\n",
       "│   └── title = SEM-EDS linescan\n",
       "└── Signal\n",
       "    └── signal_type = EDS_SEM"
      ]
     },
     "execution_count": 3,
     "metadata": {},
     "output_type": "execute_result"
    }
   ],
   "source": [
    "s.metadata"
   ]
  },
  {
   "cell_type": "code",
   "execution_count": 4,
   "metadata": {},
   "outputs": [],
   "source": [
    "s.plot()\n",
    "# Observerte linjer sortert etter intensitet i slice 39\n",
    "# 1.74 Si\n",
    "# 0.52 O\n",
    "# 8.45 \n",
    "# 8.01 \n",
    "# 1.50 (Al?)\n",
    "# 4.50\n",
    "# 9.69\n",
    "\n",
    "# Fra autodetect\n",
    "# ['Si_Ka', # Rimelig\n",
    "#  'Rb_Lb1', # Usannsynlig\n",
    "#  'Ta_Mb', # Usannsynlig\n",
    "#  'W_Ma', # Usannsynlig, men passer veldig bra\n",
    "#  'Ta_Ma', # Usannsynlig\n",
    "#  'Hf_Mb', # Usannsynlig\n",
    "#  'Rb_La', # Usannsynlig\n",
    "#  'Sr_La', # Usannsynlig\n",
    "#  'W_Mb', # Passer som sagt bra\n",
    "#  'Si_Kb', # Rimelig\n",
    "#  'Re_Ma'] # Usannsynlig"
   ]
  },
  {
   "cell_type": "code",
   "execution_count": 5,
   "metadata": {},
   "outputs": [],
   "source": [
    "s.set_elements([\"Si\", \"O\", \"Al\"])#, \"W\"])\n",
    "s.plot(xray_lines=True)"
   ]
  },
  {
   "cell_type": "code",
   "execution_count": 6,
   "metadata": {},
   "outputs": [
    {
     "name": "stdout",
     "output_type": "stream",
     "text": [
      "[########################################] | 100% Completed | 334.65 ms\n"
     ]
    },
    {
     "data": {
      "text/plain": [
       "['Si_Ka',\n",
       " 'Rb_Lb1',\n",
       " 'Ta_Mb',\n",
       " 'W_Ma',\n",
       " 'Ta_Ma',\n",
       " 'Hf_Mb',\n",
       " 'Rb_La',\n",
       " 'Sr_La',\n",
       " 'W_Mb',\n",
       " 'Si_Kb',\n",
       " 'Re_Ma']"
      ]
     },
     "execution_count": 6,
     "metadata": {},
     "output_type": "execute_result"
    }
   ],
   "source": [
    "# Autodetect trial \n",
    "P = s.find_peaks1D_ohaver(maxpeakn=1)[0]\n",
    "hs.eds.get_xray_lines_near_energy(P['position'], only_lines=[\"a\", \"b\"])"
   ]
  },
  {
   "cell_type": "code",
   "execution_count": 46,
   "metadata": {},
   "outputs": [],
   "source": [
    "s_sum = s.sum()\n",
    "s_sum.plot(xray_lines=True, integration_windows=\"auto\", only_lines=[\"Ka\", \"La\"])"
   ]
  },
  {
   "cell_type": "markdown",
   "metadata": {},
   "source": [
    "### Tanker om datasett 1\n",
    "\n",
    "Silisium kommer av prøven, Oksygen kommer av prøven. Aluminium kommer nok fra SEM-en selv.\n",
    "Wolfram finnes sikkert ikke, selv om det passer sykt bra med grafen\n",
    "\n",
    "## Prøve 2"
   ]
  },
  {
   "cell_type": "code",
   "execution_count": 8,
   "metadata": {},
   "outputs": [],
   "source": [
    "s2.plot()\n",
    "# Observerte linjer\n",
    "# 1.74 Si\n",
    "# 0.52 O\n",
    "# 0.25 C\n",
    "# 9.45 Ga?\n",
    "# 8.07 Cu?\n",
    "# 11.12 \n",
    "\n",
    "# 2.12 ??? P????\n"
   ]
  },
  {
   "cell_type": "code",
   "execution_count": 9,
   "metadata": {},
   "outputs": [],
   "source": [
    "s2.set_elements([\"Si\", \"O\", \"C\"])\n",
    "s2.plot(xray_lines=True)"
   ]
  },
  {
   "cell_type": "code",
   "execution_count": 26,
   "metadata": {},
   "outputs": [
    {
     "name": "stdout",
     "output_type": "stream",
     "text": [
      "[########################################] | 100% Completed | 370.84 ms\n"
     ]
    },
    {
     "ename": "SyntaxError",
     "evalue": "keyword argument repeated: only_lines (1626187009.py, line 3)",
     "output_type": "error",
     "traceback": [
      "\u001b[1;36m  Input \u001b[1;32mIn [26]\u001b[1;36m\u001b[0m\n\u001b[1;33m    hs.eds.get_xray_lines_near_energy(P['position'], only_lines=[\"a\", \"b\"],  only_lines=[\"Ka\", \"La\"])\u001b[0m\n\u001b[1;37m                                                                             ^\u001b[0m\n\u001b[1;31mSyntaxError\u001b[0m\u001b[1;31m:\u001b[0m keyword argument repeated: only_lines\n"
     ]
    }
   ],
   "source": [
    "# Autodetect trial \n",
    "P = s2.find_peaks1D_ohaver(maxpeakn=1)[0]\n",
    "hs.eds.get_xray_lines_near_energy(P['position'], only_lines=[\"a\", \"b\"])\n",
    "# Bare tullball her"
   ]
  },
  {
   "cell_type": "code",
   "execution_count": 45,
   "metadata": {},
   "outputs": [],
   "source": [
    "s2_sum = s2.sum()\n",
    "s2_sum.plot(xray_lines=True, integration_windows=\"auto\",  only_lines=[\"Ka\", \"La\"])"
   ]
  },
  {
   "cell_type": "markdown",
   "metadata": {},
   "source": [
    "### Tanker om prøve 2\n",
    "\n",
    "Hva i alle dager er den peaken på 2.12, og hvorfor forsvinner Silisium???"
   ]
  },
  {
   "cell_type": "code",
   "execution_count": 23,
   "metadata": {},
   "outputs": [
    {
     "ename": "RuntimeError",
     "evalue": "The signal needs to be plotted.",
     "output_type": "error",
     "traceback": [
      "\u001b[1;31m---------------------------------------------------------------------------\u001b[0m",
      "\u001b[1;31mRuntimeError\u001b[0m                              Traceback (most recent call last)",
      "\u001b[1;32mc:\\Users\\ivism\\Progging\\skole\\5sem\\tools\\eksamen\\1e_eds.ipynb Cell 14\u001b[0m in \u001b[0;36m<cell line: 1>\u001b[1;34m()\u001b[0m\n\u001b[1;32m----> <a href='vscode-notebook-cell:/c%3A/Users/ivism/Progging/skole/5sem/tools/eksamen/1e_eds.ipynb#X23sZmlsZQ%3D%3D?line=0'>1</a>\u001b[0m s_sum\u001b[39m.\u001b[39;49madd_xray_lines_markers(xray_lines\u001b[39m=\u001b[39;49ms_sum\u001b[39m.\u001b[39;49mmetadata\u001b[39m.\u001b[39;49mSample\u001b[39m.\u001b[39;49melements)\n",
      "File \u001b[1;32mc:\\Users\\ivism\\AppData\\Local\\Programs\\Python\\Python310\\lib\\site-packages\\hyperspy\\_signals\\eds.py:1025\u001b[0m, in \u001b[0;36mEDSSpectrum.add_xray_lines_markers\u001b[1;34m(self, xray_lines, render_figure)\u001b[0m\n\u001b[0;32m   1015\u001b[0m \u001b[39m\"\"\"\u001b[39;00m\n\u001b[0;32m   1016\u001b[0m \u001b[39mAdd marker on a spec.plot() with the name of the selected X-ray\u001b[39;00m\n\u001b[0;32m   1017\u001b[0m \u001b[39mlines\u001b[39;00m\n\u001b[1;32m   (...)\u001b[0m\n\u001b[0;32m   1022\u001b[0m \u001b[39m    A valid list of X-ray lines\u001b[39;00m\n\u001b[0;32m   1023\u001b[0m \u001b[39m\"\"\"\u001b[39;00m\n\u001b[0;32m   1024\u001b[0m \u001b[39mif\u001b[39;00m \u001b[39mself\u001b[39m\u001b[39m.\u001b[39m_plot \u001b[39mis\u001b[39;00m \u001b[39mNone\u001b[39;00m \u001b[39mor\u001b[39;00m \u001b[39mnot\u001b[39;00m \u001b[39mself\u001b[39m\u001b[39m.\u001b[39m_plot\u001b[39m.\u001b[39mis_active:\n\u001b[1;32m-> 1025\u001b[0m     \u001b[39mraise\u001b[39;00m \u001b[39mRuntimeError\u001b[39;00m(\u001b[39m\"\u001b[39m\u001b[39mThe signal needs to be plotted.\u001b[39m\u001b[39m\"\u001b[39m)\n\u001b[0;32m   1027\u001b[0m \u001b[39m# in case of log scale, if some lines have intensity zero, then\u001b[39;00m\n\u001b[0;32m   1028\u001b[0m \u001b[39m# the line and label will not be displayed.\u001b[39;00m\n\u001b[0;32m   1029\u001b[0m norm \u001b[39m=\u001b[39m \u001b[39mself\u001b[39m\u001b[39m.\u001b[39m_plot\u001b[39m.\u001b[39msignal_plot\u001b[39m.\u001b[39max_lines[\u001b[39m0\u001b[39m]\u001b[39m.\u001b[39mnorm\n",
      "\u001b[1;31mRuntimeError\u001b[0m: The signal needs to be plotted."
     ]
    }
   ],
   "source": [
    "s_sum.add_xray_lines_markers(xray_lines=s_sum.metadata.Sample.elements)"
   ]
  },
  {
   "cell_type": "markdown",
   "metadata": {},
   "source": [
    "## Pent"
   ]
  },
  {
   "cell_type": "code",
   "execution_count": 56,
   "metadata": {},
   "outputs": [],
   "source": [
    "fig, (ax1, ax2) = plt.subplots(2)\n",
    "hs.plot.plot_spectra(s_sum, ax=ax1, fig=fig)\n",
    "hs.plot.plot_spectra(s2_sum, ax=ax2, fig=fig)\n",
    "ax1.annotate(\"a\", xy=(0.005, 0.85), xycoords=\"axes fraction\", fontsize=\"20\", color=\"red\")\n",
    "ax2.annotate(\"b\", xy=(0.005, 0.85), xycoords=\"axes fraction\", fontsize=\"20\", color=\"red\")\n",
    "fig.canvas.draw()\n",
    "fig.savefig(\"1i/eds_begge\", dpi=300)"
   ]
  }
 ],
 "metadata": {
  "kernelspec": {
   "display_name": "Python 3.10.6 64-bit",
   "language": "python",
   "name": "python3"
  },
  "language_info": {
   "codemirror_mode": {
    "name": "ipython",
    "version": 3
   },
   "file_extension": ".py",
   "mimetype": "text/x-python",
   "name": "python",
   "nbconvert_exporter": "python",
   "pygments_lexer": "ipython3",
   "version": "3.10.6"
  },
  "orig_nbformat": 4,
  "vscode": {
   "interpreter": {
    "hash": "b31bfab217b7bba0d27806e15e39a0b8f095aad566d769ceebb383dd6773a3d0"
   }
  }
 },
 "nbformat": 4,
 "nbformat_minor": 2
}
