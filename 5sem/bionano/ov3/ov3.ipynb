{
 "cells": [
  {
   "cell_type": "markdown",
   "metadata": {},
   "source": [
    "# Øving 3\n",
    "\n",
    "## Navier Stokes og flythastighet"
   ]
  },
  {
   "cell_type": "markdown",
   "metadata": {},
   "source": [
    "### 0) LHS Navier = 0\n",
    "\n",
    "$$\n",
    "\\frac{\\partial \\vec{v}}{\\partial t} + (\\vec{v} + \\nabla)\\vec{v} = - \\frac{1}{\\rho} \\nabla p + \\nu \\nabla^2 \\vec{v}\n",
    "$$"
   ]
  },
  {
   "cell_type": "markdown",
   "metadata": {},
   "source": [
    "Gradienten til $\\vec{v}$ er \n",
    "\n",
    "$$\n",
    "\\nabla \\vec{v} = \\frac{\\partial v_r}{\\partial r} + \\frac{1}{r} \\frac{\\partial v_\\phi}{\\partial \\phi} + \\frac{\\partial v_x}{\\partial x}\n",
    "$$"
   ]
  },
  {
   "cell_type": "markdown",
   "metadata": {},
   "source": [
    "fordi $\\vec{v} = \\hat{x} v_x$\n",
    "\n",
    "$$\n",
    "\\nabla \\vec{v} = \\frac{\\partial v_x}{\\partial x}\n",
    "$$"
   ]
  },
  {
   "cell_type": "markdown",
   "metadata": {},
   "source": [
    "Tidsavhengigheten til $\\vec{v}$, $\\frac{\\partial \\vec{v}}{\\partial t}$ er $0$\n",
    "\n",
    "$\\vec{v}^2 = 0$ fordi "
   ]
  },
  {
   "cell_type": "markdown",
   "metadata": {},
   "source": [
    "### 1) Grensebetingelser: \n",
    "\n",
    "$$\n",
    "v(d/2) = 0\n",
    "$$\n",
    "\n",
    "$$\n",
    "v(0) = v_{max}\n",
    "$$\n",
    "\n"
   ]
  },
  {
   "cell_type": "markdown",
   "metadata": {},
   "source": [
    "### 2) Gjennomsnittlig flythastighet\n",
    "\n",
    "$$\n",
    "<v>_r = \\frac{\\int_0^{d/2} \\int_0^{2\\pi} v(r) r\\cdot d\\theta dr}{\\int_0^{d/2} \\int_0^{2\\pi} r\\cdot d\\theta dr}\n",
    "$$\n",
    "\n",
    "$$\n",
    "= \\frac{2\\pi}{\\pi (d/2)^2} \\int_0^{d/2}  v(r) r dr\n",
    "$$\n"
   ]
  },
  {
   "cell_type": "markdown",
   "metadata": {},
   "source": [
    "Hastighetsprofilen er \n",
    "\n",
    "$$\n",
    "v(r) = - \\frac{\\Delta p}{\\eta l}\\left(\\frac{r^2}{4} - C_1 \\ln r + C_2 \\right)\n",
    "$$\n",
    "\n",
    "$$\n",
    "= \\frac{\\Delta p}{4\\eta l}\\left(\\frac{d^2}{4}-r^2\\right)\n",
    "$$"
   ]
  },
  {
   "cell_type": "markdown",
   "metadata": {},
   "source": [
    "Gjennomsnittlig fart ender da opp med å være\n",
    "\n",
    "$$\n",
    "<v>_r = \\frac{\\Delta p d^2}{32 \\eta l}\n",
    "$$"
   ]
  },
  {
   "cell_type": "markdown",
   "metadata": {},
   "source": [
    "### 3) Volumetrisk væskestrøm\n",
    "\n",
    "$$\n",
    "Q = <v>_r \\cdot tverrsnitt = <v>_r \\pi (d/2)^2\n",
    "$$\n",
    "\n",
    "$$\n",
    "= \\frac{\\Delta p d^4}{128 \\eta l} \n",
    "$$"
   ]
  },
  {
   "cell_type": "markdown",
   "metadata": {},
   "source": [
    "### 4) Snitt- vs maxfart\n",
    "\n",
    "$$\n",
    "v_{max} = \\frac{\\Delta p d^2}{16\\eta l}\n",
    "$$\n",
    "\n",
    "$$\n",
    "<v>_r = \\frac{\\Delta p d^2}{32 \\eta l}\n",
    "$$\n",
    "\n",
    "Vi kan se at maksfarten er dobbelt så stor som snittfarten"
   ]
  },
  {
   "cell_type": "code",
   "execution_count": null,
   "metadata": {},
   "outputs": [],
   "source": []
  }
 ],
 "metadata": {
  "kernelspec": {
   "display_name": "Python 3.10.6 64-bit",
   "language": "python",
   "name": "python3"
  },
  "language_info": {
   "name": "python",
   "version": "3.10.6"
  },
  "orig_nbformat": 4,
  "vscode": {
   "interpreter": {
    "hash": "b31bfab217b7bba0d27806e15e39a0b8f095aad566d769ceebb383dd6773a3d0"
   }
  }
 },
 "nbformat": 4,
 "nbformat_minor": 2
}
