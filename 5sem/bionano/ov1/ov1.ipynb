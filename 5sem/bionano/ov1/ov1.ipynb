{
 "cells": [
  {
   "cell_type": "code",
   "execution_count": 1,
   "metadata": {},
   "outputs": [
    {
     "name": "stdout",
     "output_type": "stream",
     "text": [
      "Number of cells in a Human: 9.58E+13\n",
      "Total length of DNA in a human: 6.51E+08\n",
      "After 7 days we have 1.00E+98 cells\n",
      "The amount of water in a cell is 1.22E+13 water molecules\n"
     ]
    }
   ],
   "source": [
    "from scipy.constants import pi, proton_mass\n",
    "\n",
    "\n",
    "def num_cells():\n",
    "    diameter = 10e-6  # m\n",
    "    cell_vol = 4 / 3 * pi * (diameter / 2) ** 3\n",
    "    cell_share = 0.5\n",
    "    bodyweight = 100  # kg\n",
    "    water_density = 997  # kg / m^3\n",
    "    body_vol = bodyweight / water_density\n",
    "    body_cell_vol = body_vol * cell_share\n",
    "    num_cells = body_cell_vol / cell_vol\n",
    "    return num_cells\n",
    "\n",
    "\n",
    "def DNA_length(num_cells):\n",
    "    base_pairs_per_cell = 6e9  # base pairs per cell\n",
    "    base_pair_length = 0.34e-9  # m\n",
    "    return num_cells * base_pairs_per_cell * base_pair_length\n",
    "\n",
    "\n",
    "def exponential_cells_after(day0_cells, num_days):\n",
    "    return day0_cells * 2 ** (num_days * 2)\n",
    "\n",
    "\n",
    "def water_molecules_in_cell():\n",
    "    density_of_water = 1000  # kg / m^3\n",
    "    water_share = 0.7\n",
    "    cell_diameter = 10e-6  # m\n",
    "    cell_vol = 4 / 3 * pi * (cell_diameter / 2) ** 3\n",
    "    water_vol = cell_vol * water_share\n",
    "    water_mass = water_vol * density_of_water\n",
    "    weigth_of_water_molecule = 18 * proton_mass\n",
    "    num_water_molecule = water_mass / weigth_of_water_molecule\n",
    "    return num_water_molecule\n",
    "\n",
    "\n",
    "if __name__ == \"__main__\":\n",
    "    # task 1\n",
    "    cellnum = num_cells()\n",
    "    print(f\"Number of cells in a Human: {cellnum:.2E}\")\n",
    "    dna_length = DNA_length(cellnum)\n",
    "    print(f\"Total length of DNA in a human: {dna_length:.2E}\")\n",
    "\n",
    "    # task 2\n",
    "    cells_after_7 = exponential_cells_after(1e6, 7)\n",
    "    print(f\"After 7 days we have {cells_after_7:.2E} cells\")\n",
    "\n",
    "    # task 3\n",
    "    water_count = water_molecules_in_cell()\n",
    "    print(f\"The amount of water in a cell is {water_count:.2E} water molecules\")\n"
   ]
  },
  {
   "cell_type": "markdown",
   "metadata": {},
   "source": [
    "## Phase contrast microscopy\n",
    "\n",
    "### Constructive vs destructive interference\n",
    "\n",
    "The criteria for constructive interference is to have waves in the same phase.  \n",
    "The criteria for destructive interference is to have waves out of phase. For greatest effect they need to be $\\lambda/2$ apart.\n",
    "\n",
    "### Phase contrast - how it works\n",
    "\n",
    "To obtain constructive and destructive interference in the phase microscope we use a phase shifting lens. The lens phase shifts the light waves either forwards or backwards by $\\lambda/4$. Only the light sent through a specific path that doesnt _scatter_ or _diffract_ goes through the phase shifting lens. \n",
    "\n",
    "The light that gets _scattered_ or _diffracted_ does not go through the phase shifting lens, but is phase shifted (always delayed) by $\\lambda/4$. The sum of these two phase shifts are either $\\lambda/4 + \\lambda/4 = \\lambda/2$ which gives destructive interference or $\\lambda/4 - \\lambda/4 = 0$ which gives constructive interference.\n",
    "\n",
    "### Maximal lateral resolution\n",
    "\n",
    "In order to get maximum lateral resolution the objective needs to: \n",
    "\n",
    "- Have a large numerical aperture\n",
    "- Have a large angle $\\theta$ to get $\\sin\\theta$ as close as possible to 1.\n",
    "\n",
    "Since\n",
    "\n",
    "$$\n",
    "lateral\\space resolution = \\frac{0.61\\lambda}{n\\sin\\theta}\n",
    "$$\n",
    "\n",
    "we need a small wavelength to get the greatest resolution. Blue light has a small wavelength. Electrons have smaller.\n"
   ]
  }
 ],
 "metadata": {
  "kernelspec": {
   "display_name": "Python 3.10.6 64-bit",
   "language": "python",
   "name": "python3"
  },
  "language_info": {
   "codemirror_mode": {
    "name": "ipython",
    "version": 3
   },
   "file_extension": ".py",
   "mimetype": "text/x-python",
   "name": "python",
   "nbconvert_exporter": "python",
   "pygments_lexer": "ipython3",
   "version": "3.10.6"
  },
  "orig_nbformat": 4,
  "vscode": {
   "interpreter": {
    "hash": "b31bfab217b7bba0d27806e15e39a0b8f095aad566d769ceebb383dd6773a3d0"
   }
  }
 },
 "nbformat": 4,
 "nbformat_minor": 2
}
